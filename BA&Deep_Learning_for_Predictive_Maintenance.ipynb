{
  "nbformat": 4,
  "nbformat_minor": 0,
  "metadata": {
    "anaconda-cloud": {},
    "colab": {
      "name": "BA&Deep Learning for Predictive Maintenance.ipynb",
      "provenance": [],
      "include_colab_link": true
    },
    "kernelspec": {
      "display_name": "Python [conda env:cntk]",
      "language": "python",
      "name": "conda-env-cntk-py"
    },
    "language_info": {
      "codemirror_mode": {
        "name": "ipython",
        "version": 3
      },
      "file_extension": ".py",
      "mimetype": "text/x-python",
      "name": "python",
      "nbconvert_exporter": "python",
      "pygments_lexer": "ipython3",
      "version": "3.5.3"
    }
  },
  "cells": [
    {
      "cell_type": "markdown",
      "metadata": {
        "id": "view-in-github",
        "colab_type": "text"
      },
      "source": [
        "<a href=\"https://colab.research.google.com/github/nehagupta2103/DL-for-Predictive-Maintenance/blob/main/BA%26Deep_Learning_for_Predictive_Maintenance.ipynb\" target=\"_parent\"><img src=\"https://colab.research.google.com/assets/colab-badge.svg\" alt=\"Open In Colab\"/></a>"
      ]
    },
    {
      "cell_type": "markdown",
      "metadata": {
        "id": "PJkZkdB0Vkmi"
      },
      "source": [
        "\n",
        "# Predicting Remaining Useful Life \n",
        "<p style=\"margin:30px\">\n",
        "    <img style=\"display:inline; margin-right:50px\" width=50% src=\"https://www.featuretools.com/wp-content/uploads/2017/12/FeatureLabs-Logo-Tangerine-800.png\" alt=\"Featuretools\" />\n",
        "    <img style=\"display:inline\" width=15% src=\"https://upload.wikimedia.org/wikipedia/commons/e/e5/NASA_logo.svg\" alt=\"NASA\" />\n",
        "</p>\n",
        "\n",
        "The general setup for the problem is a common one: we have a single table of sensor observations over time. Now that collecting information is easier than ever, most industries have already generated *time-series* type problems by the way that they store data. As such, it is crucial to be able to handle data in this form.\n",
        "\n",
        "We'll demonstrate an end-to-end workflow using a [Turbofan Engine Degradation Simulation Data Set](https://ti.arc.nasa.gov/tech/dash/groups/pcoe/prognostic-data-repository/#turbofan) from NASA. This notebook demonstrates a rapid way to predict the Remaining Useful Life (RUL) of an engine using an initial dataframe of time-series data."
      ]
    },
    {
      "cell_type": "markdown",
      "metadata": {
        "collapsed": true,
        "id": "9EybwRnNVWPr"
      },
      "source": [
        "# Deep Learning for Predictive Maintenance\n",
        "\n",
        "Deep learning has proven to show superior performance in certain domains such as object recognition and image classification. It has also gained popularity in  domains such as finance where time-series data plays an important role. Predictive Maintenance is also a domain where data is collected over time to monitor the state of an asset with the goal of finding patterns to predict failures which can also benefit from certain deep learning algorithms. Among the deep learning methods, Long Short Term Memory [(LSTM)](http://colah.github.io/posts/2015-08-Understanding-LSTMs/) networks are especially appealing to the predictive maintenance domain due to the fact that they are very good at learning from sequences. This fact lends itself to their applications using time series data by making it possible to look back for longer periods of time to detect failure patterns. In this notebook, we build an LSTM network for the data set and scenerio described at [Predictive Maintenance Template](https://gallery.cortanaintelligence.com/Collection/Predictive-Maintenance-Template-3) to predict remaining useful life of aircraft engines. In summary, the template uses simulated aircraft sensor values to predict when an aircraft engine will fail in the future so that maintenance can be planned in advance. \n",
        "\n",
        "This notebook serves as a tutorial for beginners looking to apply deep learning in predictive maintenance domain and uses a simple scenario where only one data source (sensor values) is used to make predictions. In more advanced predictive maintenance scenarios such as in [Predictive Maintenance Modelling Guide](https://gallery.cortanaintelligence.com/Notebook/Predictive-Maintenance-Modelling-Guide-R-Notebook-1), there are many other data sources (i.e. historical maintenance records, error logs, machine and operator features etc.) which may require different types of treatments to be used in the deep learning networks. Since predictive maintenance is not a typical domain for deep learning, its application is an open area of research. \n",
        "\n",
        "This notebook uses [keras](https://keras.io/) deep learning library with Microsoft Cognitive Toolkit [CNTK](https://docs.microsoft.com/en-us/cognitive-toolkit/Using-CNTK-with-Keras) as backend."
      ]
    },
    {
      "cell_type": "code",
      "metadata": {
        "colab": {
          "base_uri": "https://localhost:8080/",
          "height": 705
        },
        "id": "EP52pAm8aZu5",
        "outputId": "d7831784-7905-4c3d-c89c-56880e34c435"
      },
      "source": [
        "%matplotlib inline\n",
        "import matplotlib.pyplot as plt\n",
        "from scipy.spatial.distance import cdist\n",
        "!pip install --upgrade numpy==1.16.1\n",
        "!pip install tensorflow==2.0.0-beta1\n",
        "import tensorflow as tf\n",
        "\n",
        "tf.__version__\n",
        "print(\"TensorFlow version: {}\".format(tf.__version__))\n",
        "\n",
        "\n",
        "\n",
        "print(\"Eager execution: {}\".format(tf.executing_eagerly()))\n",
        "\n",
        "tf.keras.__version__"
      ],
      "execution_count": 1,
      "outputs": [
        {
          "output_type": "stream",
          "name": "stdout",
          "text": [
            "Looking in indexes: https://pypi.org/simple, https://us-python.pkg.dev/colab-wheels/public/simple/\n",
            "Collecting numpy==1.16.1\n",
            "  Downloading numpy-1.16.1-cp37-cp37m-manylinux1_x86_64.whl (17.3 MB)\n",
            "\u001b[K     |████████████████████████████████| 17.3 MB 714 kB/s \n",
            "\u001b[?25hInstalling collected packages: numpy\n",
            "  Attempting uninstall: numpy\n",
            "    Found existing installation: numpy 1.21.6\n",
            "    Uninstalling numpy-1.21.6:\n",
            "      Successfully uninstalled numpy-1.21.6\n",
            "\u001b[31mERROR: pip's dependency resolver does not currently take into account all the packages that are installed. This behaviour is the source of the following dependency conflicts.\n",
            "xarray 0.20.2 requires numpy>=1.18, but you have numpy 1.16.1 which is incompatible.\n",
            "xarray-einstats 0.2.2 requires numpy>=1.21, but you have numpy 1.16.1 which is incompatible.\n",
            "tensorflow 2.8.2+zzzcolab20220527125636 requires numpy>=1.20, but you have numpy 1.16.1 which is incompatible.\n",
            "tables 3.7.0 requires numpy>=1.19.0, but you have numpy 1.16.1 which is incompatible.\n",
            "scikit-image 0.18.3 requires numpy>=1.16.5, but you have numpy 1.16.1 which is incompatible.\n",
            "pywavelets 1.3.0 requires numpy>=1.17.3, but you have numpy 1.16.1 which is incompatible.\n",
            "pyerfa 2.0.0.1 requires numpy>=1.17, but you have numpy 1.16.1 which is incompatible.\n",
            "pyarrow 6.0.1 requires numpy>=1.16.6, but you have numpy 1.16.1 which is incompatible.\n",
            "pandas 1.3.5 requires numpy>=1.17.3; platform_machine != \"aarch64\" and platform_machine != \"arm64\" and python_version < \"3.10\", but you have numpy 1.16.1 which is incompatible.\n",
            "kapre 0.3.7 requires numpy>=1.18.5, but you have numpy 1.16.1 which is incompatible.\n",
            "jaxlib 0.3.7+cuda11.cudnn805 requires numpy>=1.19, but you have numpy 1.16.1 which is incompatible.\n",
            "jax 0.3.8 requires numpy>=1.19, but you have numpy 1.16.1 which is incompatible.\n",
            "datascience 0.10.6 requires folium==0.2.1, but you have folium 0.8.3 which is incompatible.\n",
            "astropy 4.3.1 requires numpy>=1.17, but you have numpy 1.16.1 which is incompatible.\n",
            "albumentations 0.1.12 requires imgaug<0.2.7,>=0.2.5, but you have imgaug 0.2.9 which is incompatible.\u001b[0m\n",
            "Successfully installed numpy-1.16.1\n"
          ]
        },
        {
          "output_type": "display_data",
          "data": {
            "application/vnd.colab-display-data+json": {
              "pip_warning": {
                "packages": [
                  "numpy"
                ]
              }
            }
          },
          "metadata": {}
        },
        {
          "output_type": "stream",
          "name": "stdout",
          "text": [
            "Looking in indexes: https://pypi.org/simple, https://us-python.pkg.dev/colab-wheels/public/simple/\n",
            "\u001b[31mERROR: Could not find a version that satisfies the requirement tensorflow==2.0.0-beta1 (from versions: 1.13.1, 1.13.2, 1.14.0, 1.15.0, 1.15.2, 1.15.3, 1.15.4, 1.15.5, 2.0.0, 2.0.1, 2.0.2, 2.0.3, 2.0.4, 2.1.0, 2.1.1, 2.1.2, 2.1.3, 2.1.4, 2.2.0, 2.2.1, 2.2.2, 2.2.3, 2.3.0, 2.3.1, 2.3.2, 2.3.3, 2.3.4, 2.4.0, 2.4.1, 2.4.2, 2.4.3, 2.4.4, 2.5.0, 2.5.1, 2.5.2, 2.5.3, 2.6.0rc0, 2.6.0rc1, 2.6.0rc2, 2.6.0, 2.6.0+zzzcolab20220506153740, 2.6.1, 2.6.2, 2.6.3, 2.6.4, 2.6.4+zzzcolab20220516125453, 2.6.5, 2.6.5+zzzcolab20220523104206, 2.7.0rc0, 2.7.0rc1, 2.7.0, 2.7.0+zzzcolab20220506150900, 2.7.1, 2.7.2, 2.7.2+zzzcolab20220516114640, 2.7.3, 2.7.3+zzzcolab20220523111007, 2.8.0rc0, 2.8.0rc1, 2.8.0, 2.8.0+zzzcolab20220506162203, 2.8.1, 2.8.1+zzzcolab20220516111314, 2.8.1+zzzcolab20220518083849, 2.8.2, 2.8.2+zzzcolab20220523105045, 2.8.2+zzzcolab20220527125636, 2.9.0rc0, 2.9.0rc1, 2.9.0rc2, 2.9.0, 2.9.1)\u001b[0m\n",
            "\u001b[31mERROR: No matching distribution found for tensorflow==2.0.0-beta1\u001b[0m\n",
            "TensorFlow version: 2.8.2\n",
            "Eager execution: True\n"
          ]
        },
        {
          "output_type": "execute_result",
          "data": {
            "text/plain": [
              "'2.8.0'"
            ],
            "application/vnd.google.colaboratory.intrinsic+json": {
              "type": "string"
            }
          },
          "metadata": {},
          "execution_count": 1
        }
      ]
    },
    {
      "cell_type": "code",
      "metadata": {
        "id": "8-W0aXFpa9ZZ"
      },
      "source": [
        "from tensorflow.keras.models import Sequential\n",
        "from tensorflow.keras.models import Sequential\n",
        "from tensorflow.keras.layers import Dense, GRU, Embedding\n",
        "from tensorflow.keras.preprocessing.sequence import pad_sequences\n",
        "\n",
        "from tensorflow.keras.datasets import imdb\n",
        "\n",
        "from tensorflow.keras.preprocessing import sequence"
      ],
      "execution_count": 2,
      "outputs": []
    },
    {
      "cell_type": "code",
      "metadata": {
        "id": "K9edKdtmVWP0"
      },
      "source": [
        "import pandas as pd\n",
        "import numpy as np\n",
        "import matplotlib.pyplot as plt\n",
        "\n",
        "# Setting seed for reproducability\n",
        "np.random.seed(1234)  \n",
        "PYTHONHASHSEED = 0\n",
        "from sklearn import preprocessing\n",
        "from sklearn.metrics import confusion_matrix, recall_score, precision_score\n",
        "from tensorflow.keras.models import Sequential\n",
        "from tensorflow.keras.layers import Dense, Dropout, LSTM, Activation\n",
        "%matplotlib inline"
      ],
      "execution_count": 3,
      "outputs": []
    },
    {
      "cell_type": "markdown",
      "metadata": {
        "collapsed": true,
        "id": "cRJlOrYSVWP8"
      },
      "source": [
        "## Data Ingestion\n",
        "In the following section, we ingest the training, test and ground truth datasets from azure storage. The training data consists of multiple multivariate time series with \"cycle\" as the time unit, together with 21 sensor readings for each cycle. Each time series can be assumed as being generated from a different engine of the same type. The testing data has the same data schema as the training data. The only difference is that the data does not indicate when the failure occurs. Finally, the ground truth data provides the number of remaining working cycles for the engines in the testing data. You can find more details about the type of data used for this notebook at [Predictive Maintenance Template](https://gallery.cortanaintelligence.com/Collection/Predictive-Maintenance-Template-3)."
      ]
    },
    {
      "cell_type": "code",
      "metadata": {
        "colab": {
          "base_uri": "https://localhost:8080/"
        },
        "id": "IieJsUIcVWP8",
        "outputId": "49d046fc-9260-4413-9867-ba5f87be7d7d"
      },
      "source": [
        "# Data ingestion - reading the datasets from Azure blob \n",
        "!wget http://azuremlsamples.azureml.net/templatedata/PM_train.txt \n",
        "!wget http://azuremlsamples.azureml.net/templatedata/PM_test.txt\n",
        "!wget http://azuremlsamples.azureml.net/templatedata/PM_truth.txt "
      ],
      "execution_count": 4,
      "outputs": [
        {
          "output_type": "stream",
          "name": "stdout",
          "text": [
            "--2022-06-19 23:50:12--  http://azuremlsamples.azureml.net/templatedata/PM_train.txt\n",
            "Resolving azuremlsamples.azureml.net (azuremlsamples.azureml.net)... 13.107.246.39, 13.107.213.39, 2620:1ec:bdf::39, ...\n",
            "Connecting to azuremlsamples.azureml.net (azuremlsamples.azureml.net)|13.107.246.39|:80... connected.\n",
            "HTTP request sent, awaiting response... 200 OK\n",
            "Length: 3515356 (3.4M) [text/plain]\n",
            "Saving to: ‘PM_train.txt’\n",
            "\n",
            "PM_train.txt        100%[===================>]   3.35M  20.0MB/s    in 0.2s    \n",
            "\n",
            "2022-06-19 23:50:13 (20.0 MB/s) - ‘PM_train.txt’ saved [3515356/3515356]\n",
            "\n",
            "--2022-06-19 23:50:13--  http://azuremlsamples.azureml.net/templatedata/PM_test.txt\n",
            "Resolving azuremlsamples.azureml.net (azuremlsamples.azureml.net)... 13.107.246.39, 13.107.213.39, 2620:1ec:bdf::39, ...\n",
            "Connecting to azuremlsamples.azureml.net (azuremlsamples.azureml.net)|13.107.246.39|:80... connected.\n",
            "HTTP request sent, awaiting response... 200 OK\n",
            "Length: 2228855 (2.1M) [text/plain]\n",
            "Saving to: ‘PM_test.txt’\n",
            "\n",
            "PM_test.txt         100%[===================>]   2.12M  1.41MB/s    in 1.5s    \n",
            "\n",
            "2022-06-19 23:50:16 (1.41 MB/s) - ‘PM_test.txt’ saved [2228855/2228855]\n",
            "\n",
            "--2022-06-19 23:50:16--  http://azuremlsamples.azureml.net/templatedata/PM_truth.txt\n",
            "Resolving azuremlsamples.azureml.net (azuremlsamples.azureml.net)... 13.107.246.39, 13.107.213.39, 2620:1ec:bdf::39, ...\n",
            "Connecting to azuremlsamples.azureml.net (azuremlsamples.azureml.net)|13.107.246.39|:80... connected.\n",
            "HTTP request sent, awaiting response... 200 OK\n",
            "Length: 429 [text/plain]\n",
            "Saving to: ‘PM_truth.txt’\n",
            "\n",
            "PM_truth.txt        100%[===================>]     429  --.-KB/s    in 0s      \n",
            "\n",
            "2022-06-19 23:50:16 (57.7 MB/s) - ‘PM_truth.txt’ saved [429/429]\n",
            "\n"
          ]
        }
      ]
    },
    {
      "cell_type": "code",
      "metadata": {
        "id": "cHGuHvDCVWP_"
      },
      "source": [
        "# read training data \n",
        "train_df = pd.read_csv('PM_train.txt', sep=\" \", header=None)\n",
        "train_df.drop(train_df.columns[[26, 27]], axis=1, inplace=True)\n",
        "train_df.columns = ['id', 'cycle', 'setting1', 'setting2', 'setting3', 's1', 's2', 's3',\n",
        "                     's4', 's5', 's6', 's7', 's8', 's9', 's10', 's11', 's12', 's13', 's14',\n",
        "                     's15', 's16', 's17', 's18', 's19', 's20', 's21']"
      ],
      "execution_count": 5,
      "outputs": []
    },
    {
      "cell_type": "code",
      "metadata": {
        "colab": {
          "base_uri": "https://localhost:8080/",
          "height": 478
        },
        "id": "zjeuSJ02dCza",
        "outputId": "6edb32ce-d755-43a2-f0b7-57670b87e312"
      },
      "source": [
        "train_df.id.value_counts().plot.bar(figsize=(30,10))"
      ],
      "execution_count": 6,
      "outputs": [
        {
          "output_type": "execute_result",
          "data": {
            "text/plain": [
              "<matplotlib.axes._subplots.AxesSubplot at 0x7f456a1e7510>"
            ]
          },
          "metadata": {},
          "execution_count": 6
        },
        {
          "output_type": "display_data",
          "data": {
            "text/plain": [
              "<Figure size 2160x720 with 1 Axes>"
            ],
            "image/png": "[encoded data removed]"
          },
          "metadata": {
            "needs_background": "light"
          }
        }
      ]
    },
    {
      "cell_type": "code",
      "metadata": {
        "id": "A_N7yelwVWQZ"
      },
      "source": [
        "# read test data\n",
        "test_df = pd.read_csv('PM_test.txt', sep=\" \", header=None)\n",
        "test_df.drop(test_df.columns[[26, 27]], axis=1, inplace=True)\n",
        "test_df.columns = ['id', 'cycle', 'setting1', 'setting2', 'setting3', 's1', 's2', 's3',\n",
        "                     's4', 's5', 's6', 's7', 's8', 's9', 's10', 's11', 's12', 's13', 's14',\n",
        "                     's15', 's16', 's17', 's18', 's19', 's20', 's21']"
      ],
      "execution_count": 7,
      "outputs": []
    },
    {
      "cell_type": "code",
      "metadata": {
        "id": "NHn2bTk2VWQc"
      },
      "source": [
        "# read ground truth data\n",
        "truth_df = pd.read_csv('PM_truth.txt', sep=\" \", header=None)\n",
        "truth_df.drop(truth_df.columns[[1]], axis=1, inplace=True)"
      ],
      "execution_count": 8,
      "outputs": []
    },
    {
      "cell_type": "code",
      "metadata": {
        "colab": {
          "base_uri": "https://localhost:8080/"
        },
        "id": "xUucXPzoTxwR",
        "outputId": "2048e230-ea41-424c-cf7f-f47ebdc0c590"
      },
      "source": [
        "print(len(truth_df))"
      ],
      "execution_count": 9,
      "outputs": [
        {
          "output_type": "stream",
          "name": "stdout",
          "text": [
            "100\n"
          ]
        }
      ]
    },
    {
      "cell_type": "code",
      "metadata": {
        "colab": {
          "base_uri": "https://localhost:8080/"
        },
        "id": "Bj7vQD0njsgu",
        "outputId": "a39386a4-a45a-4858-8d4f-2c98466667c3"
      },
      "source": [
        "print(len(train_df))"
      ],
      "execution_count": 10,
      "outputs": [
        {
          "output_type": "stream",
          "name": "stdout",
          "text": [
            "20631\n"
          ]
        }
      ]
    },
    {
      "cell_type": "code",
      "metadata": {
        "colab": {
          "base_uri": "https://localhost:8080/"
        },
        "id": "ZDc87zVTjuvP",
        "outputId": "713417c0-cc5a-4aa3-a906-621c95ace19a"
      },
      "source": [
        "print(test_df)"
      ],
      "execution_count": 11,
      "outputs": [
        {
          "output_type": "stream",
          "name": "stdout",
          "text": [
            "        id  cycle  setting1  setting2  setting3      s1      s2       s3  \\\n",
            "0        1      1    0.0023    0.0003     100.0  518.67  643.02  1585.29   \n",
            "1        1      2   -0.0027   -0.0003     100.0  518.67  641.71  1588.45   \n",
            "2        1      3    0.0003    0.0001     100.0  518.67  642.46  1586.94   \n",
            "3        1      4    0.0042    0.0000     100.0  518.67  642.44  1584.12   \n",
            "4        1      5    0.0014    0.0000     100.0  518.67  642.51  1587.19   \n",
            "...    ...    ...       ...       ...       ...     ...     ...      ...   \n",
            "13091  100    194    0.0049    0.0000     100.0  518.67  643.24  1599.45   \n",
            "13092  100    195   -0.0011   -0.0001     100.0  518.67  643.22  1595.69   \n",
            "13093  100    196   -0.0006   -0.0003     100.0  518.67  643.44  1593.15   \n",
            "13094  100    197   -0.0038    0.0001     100.0  518.67  643.26  1594.99   \n",
            "13095  100    198    0.0013    0.0003     100.0  518.67  642.95  1601.62   \n",
            "\n",
            "            s4     s5  ...     s12      s13      s14     s15   s16  s17   s18  \\\n",
            "0      1398.21  14.62  ...  521.72  2388.03  8125.55  8.4052  0.03  392  2388   \n",
            "1      1395.42  14.62  ...  522.16  2388.06  8139.62  8.3803  0.03  393  2388   \n",
            "2      1401.34  14.62  ...  521.97  2388.03  8130.10  8.4441  0.03  393  2388   \n",
            "3      1406.42  14.62  ...  521.38  2388.05  8132.90  8.3917  0.03  391  2388   \n",
            "4      1401.92  14.62  ...  522.15  2388.03  8129.54  8.4031  0.03  390  2388   \n",
            "...        ...    ...  ...     ...      ...      ...     ...   ...  ...   ...   \n",
            "13091  1415.79  14.62  ...  520.69  2388.00  8213.28  8.4715  0.03  394  2388   \n",
            "13092  1422.05  14.62  ...  521.05  2388.09  8210.85  8.4512  0.03  395  2388   \n",
            "13093  1406.82  14.62  ...  521.18  2388.04  8217.24  8.4569  0.03  395  2388   \n",
            "13094  1419.36  14.62  ...  521.33  2388.08  8220.48  8.4711  0.03  395  2388   \n",
            "13095  1424.99  14.62  ...  521.07  2388.05  8214.64  8.4903  0.03  396  2388   \n",
            "\n",
            "         s19    s20      s21  \n",
            "0      100.0  38.86  23.3735  \n",
            "1      100.0  39.02  23.3916  \n",
            "2      100.0  39.08  23.4166  \n",
            "3      100.0  39.00  23.3737  \n",
            "4      100.0  38.99  23.4130  \n",
            "...      ...    ...      ...  \n",
            "13091  100.0  38.65  23.1974  \n",
            "13092  100.0  38.57  23.2771  \n",
            "13093  100.0  38.62  23.2051  \n",
            "13094  100.0  38.66  23.2699  \n",
            "13095  100.0  38.70  23.1855  \n",
            "\n",
            "[13096 rows x 26 columns]\n"
          ]
        }
      ]
    },
    {
      "cell_type": "code",
      "metadata": {
        "colab": {
          "base_uri": "https://localhost:8080/",
          "height": 235
        },
        "id": "6Hj_L7GVVWQf",
        "outputId": "c39684eb-a002-48ba-aeb1-ad99a3508322"
      },
      "source": [
        "train_df = train_df.sort_values(['id','cycle'])\n",
        "train_df.head()"
      ],
      "execution_count": 12,
      "outputs": [
        {
          "output_type": "execute_result",
          "data": {
            "text/plain": [
              "   id  cycle  setting1  setting2  setting3      s1      s2       s3       s4  \\\n",
              "0   1      1   -0.0007   -0.0004     100.0  518.67  641.82  1589.70  1400.60   \n",
              "1   1      2    0.0019   -0.0003     100.0  518.67  642.15  1591.82  1403.14   \n",
              "2   1      3   -0.0043    0.0003     100.0  518.67  642.35  1587.99  1404.20   \n",
              "3   1      4    0.0007    0.0000     100.0  518.67  642.35  1582.79  1401.87   \n",
              "4   1      5   -0.0019   -0.0002     100.0  518.67  642.37  1582.85  1406.22   \n",
              "\n",
              "      s5  ...     s12      s13      s14     s15   s16  s17   s18    s19  \\\n",
              "0  14.62  ...  521.66  2388.02  8138.62  8.4195  0.03  392  2388  100.0   \n",
              "1  14.62  ...  522.28  2388.07  8131.49  8.4318  0.03  392  2388  100.0   \n",
              "2  14.62  ...  522.42  2388.03  8133.23  8.4178  0.03  390  2388  100.0   \n",
              "3  14.62  ...  522.86  2388.08  8133.83  8.3682  0.03  392  2388  100.0   \n",
              "4  14.62  ...  522.19  2388.04  8133.80  8.4294  0.03  393  2388  100.0   \n",
              "\n",
              "     s20      s21  \n",
              "0  39.06  23.4190  \n",
              "1  39.00  23.4236  \n",
              "2  38.95  23.3442  \n",
              "3  38.88  23.3739  \n",
              "4  38.90  23.4044  \n",
              "\n",
              "[5 rows x 26 columns]"
            ],
            "text/html": [
              "\n",
              "  <div id=\"df-470f44a5-187f-4f03-a40e-25737728aecd\">\n",
              "    <div class=\"colab-df-container\">\n",
              "      <div>\n",
              "<style scoped>\n",
              "    .dataframe tbody tr th:only-of-type {\n",
              "        vertical-align: middle;\n",
              "    }\n",
              "\n",
              "    .dataframe tbody tr th {\n",
              "        vertical-align: top;\n",
              "    }\n",
              "\n",
              "    .dataframe thead th {\n",
              "        text-align: right;\n",
              "    }\n",
              "</style>\n",
              "<table border=\"1\" class=\"dataframe\">\n",
              "  <thead>\n",
              "    <tr style=\"text-align: right;\">\n",
              "      <th></th>\n",
              "      <th>id</th>\n",
              "      <th>cycle</th>\n",
              "      <th>setting1</th>\n",
              "      <th>setting2</th>\n",
              "      <th>setting3</th>\n",
              "      <th>s1</th>\n",
              "      <th>s2</th>\n",
              "      <th>s3</th>\n",
              "      <th>s4</th>\n",
              "      <th>s5</th>\n",
              "      <th>...</th>\n",
              "      <th>s12</th>\n",
              "      <th>s13</th>\n",
              "      <th>s14</th>\n",
              "      <th>s15</th>\n",
              "      <th>s16</th>\n",
              "      <th>s17</th>\n",
              "      <th>s18</th>\n",
              "      <th>s19</th>\n",
              "      <th>s20</th>\n",
              "      <th>s21</th>\n",
              "    </tr>\n",
              "  </thead>\n",
              "  <tbody>\n",
              "    <tr>\n",
              "      <th>0</th>\n",
              "      <td>1</td>\n",
              "      <td>1</td>\n",
              "      <td>-0.0007</td>\n",
              "      <td>-0.0004</td>\n",
              "      <td>100.0</td>\n",
              "      <td>518.67</td>\n",
              "      <td>641.82</td>\n",
              "      <td>1589.70</td>\n",
              "      <td>1400.60</td>\n",
              "      <td>14.62</td>\n",
              "      <td>...</td>\n",
              "      <td>521.66</td>\n",
              "      <td>2388.02</td>\n",
              "      <td>8138.62</td>\n",
              "      <td>8.4195</td>\n",
              "      <td>0.03</td>\n",
              "      <td>392</td>\n",
              "      <td>2388</td>\n",
              "      <td>100.0</td>\n",
              "      <td>39.06</td>\n",
              "      <td>23.4190</td>\n",
              "    </tr>\n",
              "    <tr>\n",
              "      <th>1</th>\n",
              "      <td>1</td>\n",
              "      <td>2</td>\n",
              "      <td>0.0019</td>\n",
              "      <td>-0.0003</td>\n",
              "      <td>100.0</td>\n",
              "      <td>518.67</td>\n",
              "      <td>642.15</td>\n",
              "      <td>1591.82</td>\n",
              "      <td>1403.14</td>\n",
              "      <td>14.62</td>\n",
              "      <td>...</td>\n",
              "      <td>522.28</td>\n",
              "      <td>2388.07</td>\n",
              "      <td>8131.49</td>\n",
              "      <td>8.4318</td>\n",
              "      <td>0.03</td>\n",
              "      <td>392</td>\n",
              "      <td>2388</td>\n",
              "      <td>100.0</td>\n",
              "      <td>39.00</td>\n",
              "      <td>23.4236</td>\n",
              "    </tr>\n",
              "    <tr>\n",
              "      <th>2</th>\n",
              "      <td>1</td>\n",
              "      <td>3</td>\n",
              "      <td>-0.0043</td>\n",
              "      <td>0.0003</td>\n",
              "      <td>100.0</td>\n",
              "      <td>518.67</td>\n",
              "      <td>642.35</td>\n",
              "      <td>1587.99</td>\n",
              "      <td>1404.20</td>\n",
              "      <td>14.62</td>\n",
              "      <td>...</td>\n",
              "      <td>522.42</td>\n",
              "      <td>2388.03</td>\n",
              "      <td>8133.23</td>\n",
              "      <td>8.4178</td>\n",
              "      <td>0.03</td>\n",
              "      <td>390</td>\n",
              "      <td>2388</td>\n",
              "      <td>100.0</td>\n",
              "      <td>38.95</td>\n",
              "      <td>23.3442</td>\n",
              "    </tr>\n",
              "    <tr>\n",
              "      <th>3</th>\n",
              "      <td>1</td>\n",
              "      <td>4</td>\n",
              "      <td>0.0007</td>\n",
              "      <td>0.0000</td>\n",
              "      <td>100.0</td>\n",
              "      <td>518.67</td>\n",
              "      <td>642.35</td>\n",
              "      <td>1582.79</td>\n",
              "      <td>1401.87</td>\n",
              "      <td>14.62</td>\n",
              "      <td>...</td>\n",
              "      <td>522.86</td>\n",
              "      <td>2388.08</td>\n",
              "      <td>8133.83</td>\n",
              "      <td>8.3682</td>\n",
              "      <td>0.03</td>\n",
              "      <td>392</td>\n",
              "      <td>2388</td>\n",
              "      <td>100.0</td>\n",
              "      <td>38.88</td>\n",
              "      <td>23.3739</td>\n",
              "    </tr>\n",
              "    <tr>\n",
              "      <th>4</th>\n",
              "      <td>1</td>\n",
              "      <td>5</td>\n",
              "      <td>-0.0019</td>\n",
              "      <td>-0.0002</td>\n",
              "      <td>100.0</td>\n",
              "      <td>518.67</td>\n",
              "      <td>642.37</td>\n",
              "      <td>1582.85</td>\n",
              "      <td>1406.22</td>\n",
              "      <td>14.62</td>\n",
              "      <td>...</td>\n",
              "      <td>522.19</td>\n",
              "      <td>2388.04</td>\n",
              "      <td>8133.80</td>\n",
              "      <td>8.4294</td>\n",
              "      <td>0.03</td>\n",
              "      <td>393</td>\n",
              "      <td>2388</td>\n",
              "      <td>100.0</td>\n",
              "      <td>38.90</td>\n",
              "      <td>23.4044</td>\n",
              "    </tr>\n",
              "  </tbody>\n",
              "</table>\n",
              "<p>5 rows × 26 columns</p>\n",
              "</div>\n",
              "      <button class=\"colab-df-convert\" onclick=\"convertToInteractive('df-470f44a5-187f-4f03-a40e-25737728aecd')\"\n",
              "              title=\"Convert this dataframe to an interactive table.\"\n",
              "              style=\"display:none;\">\n",
              "        \n",
              "  <svg xmlns=\"http://www.w3.org/2000/svg\" height=\"24px\"viewBox=\"0 0 24 24\"\n",
              "       width=\"24px\">\n",
              "    <path d=\"M0 0h24v24H0V0z\" fill=\"none\"/>\n",
              "    <path d=\"M18.56 5.44l.94 2.06.94-2.06 2.06-.94-2.06-.94-.94-2.06-.94 2.06-2.06.94zm-11 1L8.5 8.5l.94-2.06 2.06-.94-2.06-.94L8.5 2.5l-.94 2.06-2.06.94zm10 10l.94 2.06.94-2.06 2.06-.94-2.06-.94-.94-2.06-.94 2.06-2.06.94z\"/><path d=\"M17.41 7.96l-1.37-1.37c-.4-.4-.92-.59-1.43-.59-.52 0-1.04.2-1.43.59L10.3 9.45l-7.72 7.72c-.78.78-.78 2.05 0 2.83L4 21.41c.39.39.9.59 1.41.59.51 0 1.02-.2 1.41-.59l7.78-7.78 2.81-2.81c.8-.78.8-2.07 0-2.86zM5.41 20L4 18.59l7.72-7.72 1.47 1.35L5.41 20z\"/>\n",
              "  </svg>\n",
              "      </button>\n",
              "      \n",
              "  <style>\n",
              "    .colab-df-container {\n",
              "      display:flex;\n",
              "      flex-wrap:wrap;\n",
              "      gap: 12px;\n",
              "    }\n",
              "\n",
              "    .colab-df-convert {\n",
              "      background-color: #E8F0FE;\n",
              "      border: none;\n",
              "      border-radius: 50%;\n",
              "      cursor: pointer;\n",
              "      display: none;\n",
              "      fill: #1967D2;\n",
              "      height: 32px;\n",
              "      padding: 0 0 0 0;\n",
              "      width: 32px;\n",
              "    }\n",
              "\n",
              "    .colab-df-convert:hover {\n",
              "      background-color: #E2EBFA;\n",
              "      box-shadow: 0px 1px 2px rgba(60, 64, 67, 0.3), 0px 1px 3px 1px rgba(60, 64, 67, 0.15);\n",
              "      fill: #174EA6;\n",
              "    }\n",
              "\n",
              "    [theme=dark] .colab-df-convert {\n",
              "      background-color: #3B4455;\n",
              "      fill: #D2E3FC;\n",
              "    }\n",
              "\n",
              "    [theme=dark] .colab-df-convert:hover {\n",
              "      background-color: #434B5C;\n",
              "      box-shadow: 0px 1px 3px 1px rgba(0, 0, 0, 0.15);\n",
              "      filter: drop-shadow(0px 1px 2px rgba(0, 0, 0, 0.3));\n",
              "      fill: #FFFFFF;\n",
              "    }\n",
              "  </style>\n",
              "\n",
              "      <script>\n",
              "        const buttonEl =\n",
              "          document.querySelector('#df-470f44a5-187f-4f03-a40e-25737728aecd button.colab-df-convert');\n",
              "        buttonEl.style.display =\n",
              "          google.colab.kernel.accessAllowed ? 'block' : 'none';\n",
              "\n",
              "        async function convertToInteractive(key) {\n",
              "          const element = document.querySelector('#df-470f44a5-187f-4f03-a40e-25737728aecd');\n",
              "          const dataTable =\n",
              "            await google.colab.kernel.invokeFunction('convertToInteractive',\n",
              "                                                     [key], {});\n",
              "          if (!dataTable) return;\n",
              "\n",
              "          const docLinkHtml = 'Like what you see? Visit the ' +\n",
              "            '<a target=\"_blank\" href=https://colab.research.google.com/notebooks/data_table.ipynb>data table notebook</a>'\n",
              "            + ' to learn more about interactive tables.';\n",
              "          element.innerHTML = '';\n",
              "          dataTable['output_type'] = 'display_data';\n",
              "          await google.colab.output.renderOutput(dataTable, element);\n",
              "          const docLink = document.createElement('div');\n",
              "          docLink.innerHTML = docLinkHtml;\n",
              "          element.appendChild(docLink);\n",
              "        }\n",
              "      </script>\n",
              "    </div>\n",
              "  </div>\n",
              "  "
            ]
          },
          "metadata": {},
          "execution_count": 12
        }
      ]
    },
    {
      "cell_type": "markdown",
      "metadata": {
        "id": "gqW0pX8GVWQi"
      },
      "source": [
        "## Data Preprocessing\n",
        "First step is to generate labels for the training data which are Remaining Useful Life (RUL), label1 and label2 as was done in the [Predictive Maintenance Template](https://gallery.cortanaintelligence.com/Collection/Predictive-Maintenance-Template-3). Here, we will only make use of \"label1\" for binary clasification, while trying to answer the question: \n",
        "**Is a specific engine going to fail within w1 cycles?**"
      ]
    },
    {
      "cell_type": "code",
      "metadata": {
        "colab": {
          "base_uri": "https://localhost:8080/",
          "height": 235
        },
        "id": "dmtJc9b2VWQj",
        "outputId": "53a754f5-2d72-4884-a6ed-774ad2f0bb71"
      },
      "source": [
        "# Data Labeling - generate column RUL\n",
        "rul = pd.DataFrame(train_df.groupby('id')['cycle'].max()).reset_index()\n",
        "rul.columns = ['id', 'max']\n",
        "train_df = train_df.merge(rul, on=['id'], how='left')\n",
        "train_df['RUL'] = train_df['max'] - train_df['cycle']\n",
        "train_df.drop('max', axis=1, inplace=True)\n",
        "train_df.head()"
      ],
      "execution_count": 13,
      "outputs": [
        {
          "output_type": "execute_result",
          "data": {
            "text/plain": [
              "   id  cycle  setting1  setting2  setting3      s1      s2       s3       s4  \\\n",
              "0   1      1   -0.0007   -0.0004     100.0  518.67  641.82  1589.70  1400.60   \n",
              "1   1      2    0.0019   -0.0003     100.0  518.67  642.15  1591.82  1403.14   \n",
              "2   1      3   -0.0043    0.0003     100.0  518.67  642.35  1587.99  1404.20   \n",
              "3   1      4    0.0007    0.0000     100.0  518.67  642.35  1582.79  1401.87   \n",
              "4   1      5   -0.0019   -0.0002     100.0  518.67  642.37  1582.85  1406.22   \n",
              "\n",
              "      s5  ...      s13      s14     s15   s16  s17   s18    s19    s20  \\\n",
              "0  14.62  ...  2388.02  8138.62  8.4195  0.03  392  2388  100.0  39.06   \n",
              "1  14.62  ...  2388.07  8131.49  8.4318  0.03  392  2388  100.0  39.00   \n",
              "2  14.62  ...  2388.03  8133.23  8.4178  0.03  390  2388  100.0  38.95   \n",
              "3  14.62  ...  2388.08  8133.83  8.3682  0.03  392  2388  100.0  38.88   \n",
              "4  14.62  ...  2388.04  8133.80  8.4294  0.03  393  2388  100.0  38.90   \n",
              "\n",
              "       s21  RUL  \n",
              "0  23.4190  191  \n",
              "1  23.4236  190  \n",
              "2  23.3442  189  \n",
              "3  23.3739  188  \n",
              "4  23.4044  187  \n",
              "\n",
              "[5 rows x 27 columns]"
            ],
            "text/html": [
              "\n",
              "  <div id=\"df-0bb4d4be-f440-4161-8aae-7817b2ee1ff5\">\n",
              "    <div class=\"colab-df-container\">\n",
              "      <div>\n",
              "<style scoped>\n",
              "    .dataframe tbody tr th:only-of-type {\n",
              "        vertical-align: middle;\n",
              "    }\n",
              "\n",
              "    .dataframe tbody tr th {\n",
              "        vertical-align: top;\n",
              "    }\n",
              "\n",
              "    .dataframe thead th {\n",
              "        text-align: right;\n",
              "    }\n",
              "</style>\n",
              "<table border=\"1\" class=\"dataframe\">\n",
              "  <thead>\n",
              "    <tr style=\"text-align: right;\">\n",
              "      <th></th>\n",
              "      <th>id</th>\n",
              "      <th>cycle</th>\n",
              "      <th>setting1</th>\n",
              "      <th>setting2</th>\n",
              "      <th>setting3</th>\n",
              "      <th>s1</th>\n",
              "      <th>s2</th>\n",
              "      <th>s3</th>\n",
              "      <th>s4</th>\n",
              "      <th>s5</th>\n",
              "      <th>...</th>\n",
              "      <th>s13</th>\n",
              "      <th>s14</th>\n",
              "      <th>s15</th>\n",
              "      <th>s16</th>\n",
              "      <th>s17</th>\n",
              "      <th>s18</th>\n",
              "      <th>s19</th>\n",
              "      <th>s20</th>\n",
              "      <th>s21</th>\n",
              "      <th>RUL</th>\n",
              "    </tr>\n",
              "  </thead>\n",
              "  <tbody>\n",
              "    <tr>\n",
              "      <th>0</th>\n",
              "      <td>1</td>\n",
              "      <td>1</td>\n",
              "      <td>-0.0007</td>\n",
              "      <td>-0.0004</td>\n",
              "      <td>100.0</td>\n",
              "      <td>518.67</td>\n",
              "      <td>641.82</td>\n",
              "      <td>1589.70</td>\n",
              "      <td>1400.60</td>\n",
              "      <td>14.62</td>\n",
              "      <td>...</td>\n",
              "      <td>2388.02</td>\n",
              "      <td>8138.62</td>\n",
              "      <td>8.4195</td>\n",
              "      <td>0.03</td>\n",
              "      <td>392</td>\n",
              "      <td>2388</td>\n",
              "      <td>100.0</td>\n",
              "      <td>39.06</td>\n",
              "      <td>23.4190</td>\n",
              "      <td>191</td>\n",
              "    </tr>\n",
              "    <tr>\n",
              "      <th>1</th>\n",
              "      <td>1</td>\n",
              "      <td>2</td>\n",
              "      <td>0.0019</td>\n",
              "      <td>-0.0003</td>\n",
              "      <td>100.0</td>\n",
              "      <td>518.67</td>\n",
              "      <td>642.15</td>\n",
              "      <td>1591.82</td>\n",
              "      <td>1403.14</td>\n",
              "      <td>14.62</td>\n",
              "      <td>...</td>\n",
              "      <td>2388.07</td>\n",
              "      <td>8131.49</td>\n",
              "      <td>8.4318</td>\n",
              "      <td>0.03</td>\n",
              "      <td>392</td>\n",
              "      <td>2388</td>\n",
              "      <td>100.0</td>\n",
              "      <td>39.00</td>\n",
              "      <td>23.4236</td>\n",
              "      <td>190</td>\n",
              "    </tr>\n",
              "    <tr>\n",
              "      <th>2</th>\n",
              "      <td>1</td>\n",
              "      <td>3</td>\n",
              "      <td>-0.0043</td>\n",
              "      <td>0.0003</td>\n",
              "      <td>100.0</td>\n",
              "      <td>518.67</td>\n",
              "      <td>642.35</td>\n",
              "      <td>1587.99</td>\n",
              "      <td>1404.20</td>\n",
              "      <td>14.62</td>\n",
              "      <td>...</td>\n",
              "      <td>2388.03</td>\n",
              "      <td>8133.23</td>\n",
              "      <td>8.4178</td>\n",
              "      <td>0.03</td>\n",
              "      <td>390</td>\n",
              "      <td>2388</td>\n",
              "      <td>100.0</td>\n",
              "      <td>38.95</td>\n",
              "      <td>23.3442</td>\n",
              "      <td>189</td>\n",
              "    </tr>\n",
              "    <tr>\n",
              "      <th>3</th>\n",
              "      <td>1</td>\n",
              "      <td>4</td>\n",
              "      <td>0.0007</td>\n",
              "      <td>0.0000</td>\n",
              "      <td>100.0</td>\n",
              "      <td>518.67</td>\n",
              "      <td>642.35</td>\n",
              "      <td>1582.79</td>\n",
              "      <td>1401.87</td>\n",
              "      <td>14.62</td>\n",
              "      <td>...</td>\n",
              "      <td>2388.08</td>\n",
              "      <td>8133.83</td>\n",
              "      <td>8.3682</td>\n",
              "      <td>0.03</td>\n",
              "      <td>392</td>\n",
              "      <td>2388</td>\n",
              "      <td>100.0</td>\n",
              "      <td>38.88</td>\n",
              "      <td>23.3739</td>\n",
              "      <td>188</td>\n",
              "    </tr>\n",
              "    <tr>\n",
              "      <th>4</th>\n",
              "      <td>1</td>\n",
              "      <td>5</td>\n",
              "      <td>-0.0019</td>\n",
              "      <td>-0.0002</td>\n",
              "      <td>100.0</td>\n",
              "      <td>518.67</td>\n",
              "      <td>642.37</td>\n",
              "      <td>1582.85</td>\n",
              "      <td>1406.22</td>\n",
              "      <td>14.62</td>\n",
              "      <td>...</td>\n",
              "      <td>2388.04</td>\n",
              "      <td>8133.80</td>\n",
              "      <td>8.4294</td>\n",
              "      <td>0.03</td>\n",
              "      <td>393</td>\n",
              "      <td>2388</td>\n",
              "      <td>100.0</td>\n",
              "      <td>38.90</td>\n",
              "      <td>23.4044</td>\n",
              "      <td>187</td>\n",
              "    </tr>\n",
              "  </tbody>\n",
              "</table>\n",
              "<p>5 rows × 27 columns</p>\n",
              "</div>\n",
              "      <button class=\"colab-df-convert\" onclick=\"convertToInteractive('df-0bb4d4be-f440-4161-8aae-7817b2ee1ff5')\"\n",
              "              title=\"Convert this dataframe to an interactive table.\"\n",
              "              style=\"display:none;\">\n",
              "        \n",
              "  <svg xmlns=\"http://www.w3.org/2000/svg\" height=\"24px\"viewBox=\"0 0 24 24\"\n",
              "       width=\"24px\">\n",
              "    <path d=\"M0 0h24v24H0V0z\" fill=\"none\"/>\n",
              "    <path d=\"M18.56 5.44l.94 2.06.94-2.06 2.06-.94-2.06-.94-.94-2.06-.94 2.06-2.06.94zm-11 1L8.5 8.5l.94-2.06 2.06-.94-2.06-.94L8.5 2.5l-.94 2.06-2.06.94zm10 10l.94 2.06.94-2.06 2.06-.94-2.06-.94-.94-2.06-.94 2.06-2.06.94z\"/><path d=\"M17.41 7.96l-1.37-1.37c-.4-.4-.92-.59-1.43-.59-.52 0-1.04.2-1.43.59L10.3 9.45l-7.72 7.72c-.78.78-.78 2.05 0 2.83L4 21.41c.39.39.9.59 1.41.59.51 0 1.02-.2 1.41-.59l7.78-7.78 2.81-2.81c.8-.78.8-2.07 0-2.86zM5.41 20L4 18.59l7.72-7.72 1.47 1.35L5.41 20z\"/>\n",
              "  </svg>\n",
              "      </button>\n",
              "      \n",
              "  <style>\n",
              "    .colab-df-container {\n",
              "      display:flex;\n",
              "      flex-wrap:wrap;\n",
              "      gap: 12px;\n",
              "    }\n",
              "\n",
              "    .colab-df-convert {\n",
              "      background-color: #E8F0FE;\n",
              "      border: none;\n",
              "      border-radius: 50%;\n",
              "      cursor: pointer;\n",
              "      display: none;\n",
              "      fill: #1967D2;\n",
              "      height: 32px;\n",
              "      padding: 0 0 0 0;\n",
              "      width: 32px;\n",
              "    }\n",
              "\n",
              "    .colab-df-convert:hover {\n",
              "      background-color: #E2EBFA;\n",
              "      box-shadow: 0px 1px 2px rgba(60, 64, 67, 0.3), 0px 1px 3px 1px rgba(60, 64, 67, 0.15);\n",
              "      fill: #174EA6;\n",
              "    }\n",
              "\n",
              "    [theme=dark] .colab-df-convert {\n",
              "      background-color: #3B4455;\n",
              "      fill: #D2E3FC;\n",
              "    }\n",
              "\n",
              "    [theme=dark] .colab-df-convert:hover {\n",
              "      background-color: #434B5C;\n",
              "      box-shadow: 0px 1px 3px 1px rgba(0, 0, 0, 0.15);\n",
              "      filter: drop-shadow(0px 1px 2px rgba(0, 0, 0, 0.3));\n",
              "      fill: #FFFFFF;\n",
              "    }\n",
              "  </style>\n",
              "\n",
              "      <script>\n",
              "        const buttonEl =\n",
              "          document.querySelector('#df-0bb4d4be-f440-4161-8aae-7817b2ee1ff5 button.colab-df-convert');\n",
              "        buttonEl.style.display =\n",
              "          google.colab.kernel.accessAllowed ? 'block' : 'none';\n",
              "\n",
              "        async function convertToInteractive(key) {\n",
              "          const element = document.querySelector('#df-0bb4d4be-f440-4161-8aae-7817b2ee1ff5');\n",
              "          const dataTable =\n",
              "            await google.colab.kernel.invokeFunction('convertToInteractive',\n",
              "                                                     [key], {});\n",
              "          if (!dataTable) return;\n",
              "\n",
              "          const docLinkHtml = 'Like what you see? Visit the ' +\n",
              "            '<a target=\"_blank\" href=https://colab.research.google.com/notebooks/data_table.ipynb>data table notebook</a>'\n",
              "            + ' to learn more about interactive tables.';\n",
              "          element.innerHTML = '';\n",
              "          dataTable['output_type'] = 'display_data';\n",
              "          await google.colab.output.renderOutput(dataTable, element);\n",
              "          const docLink = document.createElement('div');\n",
              "          docLink.innerHTML = docLinkHtml;\n",
              "          element.appendChild(docLink);\n",
              "        }\n",
              "      </script>\n",
              "    </div>\n",
              "  </div>\n",
              "  "
            ]
          },
          "metadata": {},
          "execution_count": 13
        }
      ]
    },
    {
      "cell_type": "code",
      "metadata": {
        "id": "gFpSW9CnVWQl",
        "scrolled": false
      },
      "source": [
        "# generate label columns for training data\n",
        "w1 = 15\n",
        "w0 = 5\n",
        "train_df['label1'] = np.where(train_df['RUL'] <= w1, 1, 0 )\n",
        "train_df['label2'] = train_df['label1']\n",
        "train_df.loc[train_df['RUL'] <= w0, 'label2'] = 2\n",
        "#train_df.head()"
      ],
      "execution_count": 14,
      "outputs": []
    },
    {
      "cell_type": "markdown",
      "metadata": {
        "id": "NgJ-eZ3pVWQq"
      },
      "source": [
        "In the [Predictive Maintenance Template](https://gallery.cortanaintelligence.com/Collection/Predictive-Maintenance-Template-3) , cycle column is also used for training so we will also include the cycle column. Here, we normalize the columns in the training data."
      ]
    },
    {
      "cell_type": "code",
      "metadata": {
        "id": "BHbw1QlfVWQr"
      },
      "source": [
        "# MinMax normalization\n",
        "train_df['cycle_norm'] = train_df['cycle']\n",
        "cols_normalize = train_df.columns.difference(['id','cycle','RUL','label1','label2'])\n",
        "min_max_scaler = preprocessing.MinMaxScaler()\n",
        "norm_train_df = pd.DataFrame(min_max_scaler.fit_transform(train_df[cols_normalize]), \n",
        "                             columns=cols_normalize, \n",
        "                             index=train_df.index)\n",
        "join_df = train_df[train_df.columns.difference(cols_normalize)].join(norm_train_df)\n",
        "train_df = join_df.reindex(columns = train_df.columns)\n",
        "#train_df.head()"
      ],
      "execution_count": 15,
      "outputs": []
    },
    {
      "cell_type": "markdown",
      "metadata": {
        "id": "YLhWm8WIVWQu"
      },
      "source": [
        "Next, we prepare the test data. We first normalize the test data using the parameters from the MinMax normalization applied on the training data. "
      ]
    },
    {
      "cell_type": "code",
      "metadata": {
        "id": "rGgz0qPXVWQv"
      },
      "source": [
        "test_df['cycle_norm'] = test_df['cycle']\n",
        "norm_test_df = pd.DataFrame(min_max_scaler.transform(test_df[cols_normalize]), \n",
        "                            columns=cols_normalize, \n",
        "                            index=test_df.index)\n",
        "test_join_df = test_df[test_df.columns.difference(cols_normalize)].join(norm_test_df)\n",
        "test_df = test_join_df.reindex(columns = test_df.columns)\n",
        "test_df = test_df.reset_index(drop=True)\n",
        "#test_df.head()"
      ],
      "execution_count": 16,
      "outputs": []
    },
    {
      "cell_type": "code",
      "metadata": {
        "id": "c6RZp4d8WDAz",
        "outputId": "4fc16d6f-860a-40cd-c2ee-307b7851d514",
        "colab": {
          "base_uri": "https://localhost:8080/"
        }
      },
      "source": [
        "print(len(test_df))"
      ],
      "execution_count": 17,
      "outputs": [
        {
          "output_type": "stream",
          "name": "stdout",
          "text": [
            "13096\n"
          ]
        }
      ]
    },
    {
      "cell_type": "markdown",
      "metadata": {
        "id": "OhGckwdgVWQz"
      },
      "source": [
        "Next, we use the ground truth dataset to generate labels for the test data."
      ]
    },
    {
      "cell_type": "markdown",
      "metadata": {
        "id": "2cinFwhygQ2e"
      },
      "source": [
        ""
      ]
    },
    {
      "cell_type": "code",
      "metadata": {
        "id": "_e9OQtrOVWQz"
      },
      "source": [
        "# generate column max for test data\n",
        "rul = pd.DataFrame(test_df.groupby('id')['cycle'].max()).reset_index()\n",
        "rul.columns = ['id', 'max']\n",
        "truth_df.columns = ['more']\n",
        "truth_df['id'] = truth_df.index + 1\n",
        "truth_df['max'] = rul['max'] + truth_df['more']\n",
        "truth_df.drop('more', axis=1, inplace=True)"
      ],
      "execution_count": 18,
      "outputs": []
    },
    {
      "cell_type": "code",
      "metadata": {
        "id": "_-MaemzHVWQ2"
      },
      "source": [
        "# generate RUL for test data\n",
        "test_df = test_df.merge(truth_df, on=['id'], how='left')\n",
        "test_df['RUL'] = test_df['max'] - test_df['cycle']\n",
        "test_df.drop('max', axis=1, inplace=True)\n",
        "#test_df.head()"
      ],
      "execution_count": 19,
      "outputs": []
    },
    {
      "cell_type": "code",
      "metadata": {
        "id": "dzt3TCbxWJHJ",
        "outputId": "f1c1dda5-8895-4d16-ac39-5ff6cf4fe865",
        "colab": {
          "base_uri": "https://localhost:8080/"
        }
      },
      "source": [
        "print(len(test_df))"
      ],
      "execution_count": 20,
      "outputs": [
        {
          "output_type": "stream",
          "name": "stdout",
          "text": [
            "13096\n"
          ]
        }
      ]
    },
    {
      "cell_type": "code",
      "metadata": {
        "id": "RbVBUdmoVWQ5"
      },
      "source": [
        "# generate label columns w0 and w1 for test data\n",
        "test_df['label1'] = np.where(test_df['RUL'] <= w1, 1, 0 )\n",
        "test_df['label2'] = test_df['label1']\n",
        "test_df.loc[test_df['RUL'] <= w0, 'label2'] = 2\n",
        "#test_df.head()"
      ],
      "execution_count": 21,
      "outputs": []
    },
    {
      "cell_type": "code",
      "metadata": {
        "id": "hkw2ZzSNWNq3",
        "outputId": "1fa059fd-bbc4-4cf5-83e1-c0ae6db3f4d1",
        "colab": {
          "base_uri": "https://localhost:8080/"
        }
      },
      "source": [
        "print(len(test_df))"
      ],
      "execution_count": 22,
      "outputs": [
        {
          "output_type": "stream",
          "name": "stdout",
          "text": [
            "13096\n"
          ]
        }
      ]
    },
    {
      "cell_type": "markdown",
      "metadata": {
        "id": "Hl7Bm7s5VWQ_"
      },
      "source": [
        "In the rest of the notebook, we train an LSTM network that we will compare to the results in [Predictive Maintenance Template Step 2B of 3](https://gallery.cortanaintelligence.com/Experiment/Predictive-Maintenance-Step-2B-of-3-train-and-evaluate-binary-classification-models-2) where a series of machine learning models are used to train and evaluate the binary classification model that uses column \"label1\" as the label."
      ]
    },
    {
      "cell_type": "markdown",
      "metadata": {
        "id": "ZPeCbom0VWQ_"
      },
      "source": [
        "## Modelling\n",
        "\n",
        "The traditional predictive maintenance machine learning models are based on feature engineering which is manual construction of right features using domain expertise and similar methods. This usually makes these models hard to reuse since feature engineering is specific to the problem scenario and the available data which varies from one business to the other. Perhaps the most attractive part of applying deep learning in the predictive maintenance domain is the fact that these networks can automatically extract the right features from the data, eliminating the need for manual feature engineering.\n",
        "\n",
        "When using LSTMs in the time-series domain, one important parameter to pick is the sequence length which is the window for LSTMs to look back. This may be viewed as similar to picking window_size = 5 cycles for calculating the rolling features in the [Predictive Maintenance Template](https://gallery.cortanaintelligence.com/Collection/Predictive-Maintenance-Template-3) which are rolling mean and rolling standard deviation for 21 sensor values. The idea of using LSTMs is to let the model extract abstract features out of the sequence of sensor values in the window rather than engineering those manually. The expectation is that if there is a pattern in these sensor values within the window prior to failure, the pattern should be encoded by the LSTM.\n",
        "\n",
        "One critical advantage of LSTMs is their ability to remember from long-term sequences (window sizes) which is hard to achieve by traditional feature engineering. For example, computing rolling averages over a window size of 50 cycles may lead to loss of information due to smoothing and abstracting of values over such a long period, instead, using all 50 values as input may provide better results. While feature engineering over large window sizes may not make sense, LSTMs are able to use larger window sizes and use all the information in the window as input. Below, we illustrate the approach.\n"
      ]
    },
    {
      "cell_type": "code",
      "metadata": {
        "id": "5MjnQ_BVVWQ_"
      },
      "source": [
        "# pick a large window size of 50 cycles\n",
        "sequence_length = 30"
      ],
      "execution_count": 23,
      "outputs": []
    },
    {
      "cell_type": "markdown",
      "metadata": {
        "id": "V1hVr4icVWRB"
      },
      "source": [
        "Let's first look at an example of the sensor values 50 cycles prior to the \n",
        "\n",
        "---\n",
        "\n",
        "failure for engine id 3. We will be feeding LSTM network this type of data for each time step for each engine id. "
      ]
    },
    {
      "cell_type": "code",
      "metadata": {
        "id": "XWusayP_VWRC"
      },
      "source": [
        "# preparing data for visualizations \n",
        "# window of 50 cycles prior to a failure point for engine id 3\n",
        "engine_id3 = test_df[test_df['id'] == 3]\n",
        "engine_id3_50cycleWindow = engine_id3[engine_id3['RUL'] <= engine_id3['RUL'].min() + 50]\n",
        "cols1 = ['s1', 's2', 's3', 's4', 's5', 's6', 's7', 's8', 's9', 's10']\n",
        "engine_id3_50cycleWindow1 = engine_id3_50cycleWindow[cols1]\n",
        "cols2 = ['s11', 's12', 's13', 's14', 's15', 's16', 's17', 's18', 's19', 's20', 's21']\n",
        "engine_id3_50cycleWindow2 = engine_id3_50cycleWindow[cols2]"
      ],
      "execution_count": 24,
      "outputs": []
    },
    {
      "cell_type": "code",
      "metadata": {
        "colab": {
          "base_uri": "https://localhost:8080/",
          "height": 593
        },
        "id": "x5yVcacbVWRG",
        "outputId": "0811f2d4-845d-4829-815c-ee791965fda9"
      },
      "source": [
        "# plotting sensor data for engine ID 3 prior to a failure point - sensors 1-10 \n",
        "ax1 = engine_id3_50cycleWindow1.plot(subplots=True, sharex=True, figsize=(10,10))"
      ],
      "execution_count": 25,
      "outputs": [
        {
          "output_type": "display_data",
          "data": {
            "text/plain": [
              "<Figure size 720x720 with 10 Axes>"
            ],
            "image/png": "[encoded data removed]"
          },
          "metadata": {
            "needs_background": "light"
          }
        }
      ]
    },
    {
      "cell_type": "code",
      "metadata": {
        "colab": {
          "base_uri": "https://localhost:8080/",
          "height": 592
        },
        "id": "eXGgJyRDVWRJ",
        "outputId": "3509eac2-f437-43f3-eb86-0d49487a0e66"
      },
      "source": [
        "# plotting sensor data for engine ID 3 prior to a failure point - sensors 11-21 \n",
        "ax2 = engine_id3_50cycleWindow2.plot(subplots=True, sharex=True, figsize=(10,10))"
      ],
      "execution_count": 26,
      "outputs": [
        {
          "output_type": "display_data",
          "data": {
            "text/plain": [
              "<Figure size 720x720 with 11 Axes>"
            ],
            "image/png": "[encoded data removed]"
          },
          "metadata": {
            "needs_background": "light"
          }
        }
      ]
    },
    {
      "cell_type": "markdown",
      "metadata": {
        "id": "b-wMrz3yVWRM"
      },
      "source": [
        "[Keras LSTM](https://keras.io/layers/recurrent/) layers expect an input in the shape of a numpy array of 3 dimensions (samples, time steps, features) where samples is the number of training sequences, time steps is the look back window or sequence length and features is the number of features of each sequence at each time step. "
      ]
    },
    {
      "cell_type": "code",
      "metadata": {
        "id": "YfLSWnanVWRN"
      },
      "source": [
        "# function to reshape features into (samples, time steps, features) \n",
        "def gen_sequence(id_df, seq_length, seq_cols):\n",
        "    \"\"\" Only sequences that meet the window-length are considered, no padding is used. This means for testing\n",
        "    we need to drop those which are below the window-length. An alternative would be to pad sequences so that\n",
        "    we can use shorter ones \"\"\"\n",
        "    data_array = id_df[seq_cols].values\n",
        "    num_elements = data_array.shape[0]\n",
        "    for start, stop in zip(range(0, num_elements-seq_length), range(seq_length, num_elements)):\n",
        "        yield data_array[start:stop, :]"
      ],
      "execution_count": 27,
      "outputs": []
    },
    {
      "cell_type": "code",
      "metadata": {
        "id": "L3hJ9FCqVWRQ"
      },
      "source": [
        "# pick the feature columns \n",
        "sensor_cols = ['s' + str(i) for i in range(1,22)]\n",
        "sequence_cols = ['setting1', 'setting2', 'setting3', 'cycle_norm']\n",
        "sequence_cols.extend(sensor_cols)"
      ],
      "execution_count": 28,
      "outputs": []
    },
    {
      "cell_type": "code",
      "metadata": {
        "id": "aJOpfUGtVWRU"
      },
      "source": [
        "# generator for the sequences\n",
        "seq_gen = (list(gen_sequence(train_df[train_df['id']==id], sequence_length, sequence_cols)) \n",
        "           for id in train_df['id'].unique())"
      ],
      "execution_count": 29,
      "outputs": []
    },
    {
      "cell_type": "code",
      "metadata": {
        "colab": {
          "base_uri": "https://localhost:8080/"
        },
        "id": "4crLV-7nVWRZ",
        "outputId": "35f93f50-4035-400c-89ab-5126c7b3b3ad"
      },
      "source": [
        "# generate sequences and convert to numpy array\n",
        "seq_array = np.concatenate(list(seq_gen)).astype(np.float32)\n",
        "seq_array.shape"
      ],
      "execution_count": 30,
      "outputs": [
        {
          "output_type": "execute_result",
          "data": {
            "text/plain": [
              "(17631, 30, 25)"
            ]
          },
          "metadata": {},
          "execution_count": 30
        }
      ]
    },
    {
      "cell_type": "code",
      "metadata": {
        "colab": {
          "base_uri": "https://localhost:8080/"
        },
        "id": "khUeM24b0r_j",
        "outputId": "dac95ae2-ea81-4888-fd08-963d70f72959"
      },
      "source": [
        "# generator for the sequences\n",
        "seq_gen_test = (list(gen_sequence(test_df[test_df['id']==id], sequence_length, sequence_cols)) \n",
        "           for id in test_df['id'].unique())\n",
        "\n",
        "# generate sequences and convert to numpy array\n",
        "seq_array_test = np.concatenate(list(seq_gen_test)).astype(np.float32)\n",
        "seq_array_test.shape"
      ],
      "execution_count": 31,
      "outputs": [
        {
          "output_type": "execute_result",
          "data": {
            "text/plain": [
              "(10096, 30, 25)"
            ]
          },
          "metadata": {},
          "execution_count": 31
        }
      ]
    },
    {
      "cell_type": "code",
      "metadata": {
        "id": "VR06onXAVWRc"
      },
      "source": [
        "# function to generate labels\n",
        "def gen_labels(id_df, seq_length, label):\n",
        "    data_array = id_df[label].values\n",
        "    num_elements = data_array.shape[0]\n",
        "    return data_array[seq_length:num_elements, :]"
      ],
      "execution_count": 32,
      "outputs": []
    },
    {
      "cell_type": "code",
      "metadata": {
        "colab": {
          "base_uri": "https://localhost:8080/"
        },
        "id": "SNo4mzzbVWRg",
        "outputId": "af480558-e321-47b1-bd33-78fedb490260"
      },
      "source": [
        "# generate labels\n",
        "label_gen = [gen_labels(train_df[train_df['id']==id], sequence_length, ['label1']) \n",
        "             for id in train_df['id'].unique()]\n",
        "label_array = np.concatenate(label_gen).astype(np.float32)\n",
        "label_array.shape"
      ],
      "execution_count": 33,
      "outputs": [
        {
          "output_type": "execute_result",
          "data": {
            "text/plain": [
              "(17631, 1)"
            ]
          },
          "metadata": {},
          "execution_count": 33
        }
      ]
    },
    {
      "cell_type": "code",
      "metadata": {
        "colab": {
          "base_uri": "https://localhost:8080/"
        },
        "id": "MvtgW3YM1guH",
        "outputId": "43c21287-1cb1-4b97-e122-ba4e9fe2203a"
      },
      "source": [
        "# generate test labels\n",
        "label_gen_test = [gen_labels(test_df[test_df['id']==id], sequence_length, ['label1']) \n",
        "             for id in test_df['id'].unique()]\n",
        "label_array_test = np.concatenate(label_gen_test).astype(np.float32)\n",
        "label_array_test.shape"
      ],
      "execution_count": 34,
      "outputs": [
        {
          "output_type": "execute_result",
          "data": {
            "text/plain": [
              "(10096, 1)"
            ]
          },
          "metadata": {},
          "execution_count": 34
        }
      ]
    },
    {
      "cell_type": "markdown",
      "metadata": {
        "id": "Kxex98zQVWRi"
      },
      "source": [
        "## LSTM Network\n",
        "Next, we build a deep network. The first layer is an LSTM layer with 100 units followed by another LSTM layer with 50 units. Dropout is also applied after each LSTM layer to control overfitting. Final layer is a Dense output layer with single unit and sigmoid activation since this is a binary classification problem."
      ]
    },
    {
      "cell_type": "code",
      "metadata": {
        "id": "Vlcq_RHBNB9n"
      },
      "source": [
        "from time import time"
      ],
      "execution_count": 35,
      "outputs": []
    },
    {
      "cell_type": "code",
      "metadata": {
        "id": "QtTDidEDVWRj"
      },
      "source": [
        "start = time()\n",
        "\n",
        "# build the network\n",
        "nb_features = seq_array.shape[2]\n",
        "nb_out = label_array.shape[1]\n",
        "\n",
        "model = Sequential()\n",
        "\n",
        "model.add(LSTM(\n",
        "         input_shape=(sequence_length, nb_features),\n",
        "         units=100,\n",
        "         return_sequences=True))\n",
        "model.add(Dropout(0.5))\n",
        "\n",
        "model.add(LSTM(units=50,return_sequences=False))\n",
        "model.add(Dropout(0.5))\n",
        "\n",
        "model.add(Dense(units=nb_out, activation='sigmoid'))\n",
        "model.compile(loss='binary_crossentropy', optimizer='adam', metrics=['accuracy'])\n"
      ],
      "execution_count": 36,
      "outputs": []
    },
    {
      "cell_type": "code",
      "metadata": {
        "id": "OfLg5KCGVWRl"
      },
      "source": [
        "#print(model.summary())"
      ],
      "execution_count": 37,
      "outputs": []
    },
    {
      "cell_type": "code",
      "metadata": {
        "colab": {
          "base_uri": "https://localhost:8080/"
        },
        "id": "rR4et1-oVWRo",
        "outputId": "29018048-78c8-40f6-8592-4b72ad45cea7"
      },
      "source": [
        "\n",
        "# fit the network\n",
        "history = model.fit(seq_array, label_array, epochs=10, batch_size=200, validation_split=0.2, verbose=1)\n",
        "\n",
        "end = time()\n",
        "\n",
        "print(end-start)"
      ],
      "execution_count": 38,
      "outputs": [
        {
          "output_type": "stream",
          "name": "stdout",
          "text": [
            "Epoch 1/10\n",
            "71/71 [==============================] - 22s 259ms/step - loss: 0.2064 - accuracy: 0.9168 - val_loss: 0.1220 - val_accuracy: 0.9419\n",
            "Epoch 2/10\n",
            "71/71 [==============================] - 19s 265ms/step - loss: 0.0943 - accuracy: 0.9630 - val_loss: 0.0885 - val_accuracy: 0.9688\n",
            "Epoch 3/10\n",
            "71/71 [==============================] - 18s 247ms/step - loss: 0.0615 - accuracy: 0.9752 - val_loss: 0.0439 - val_accuracy: 0.9804\n",
            "Epoch 4/10\n",
            "71/71 [==============================] - 14s 192ms/step - loss: 0.0531 - accuracy: 0.9782 - val_loss: 0.0362 - val_accuracy: 0.9824\n",
            "Epoch 5/10\n",
            "71/71 [==============================] - 11s 156ms/step - loss: 0.0482 - accuracy: 0.9803 - val_loss: 0.0329 - val_accuracy: 0.9853\n",
            "Epoch 6/10\n",
            "71/71 [==============================] - 11s 156ms/step - loss: 0.0451 - accuracy: 0.9815 - val_loss: 0.0302 - val_accuracy: 0.9872\n",
            "Epoch 7/10\n",
            "71/71 [==============================] - 13s 186ms/step - loss: 0.0412 - accuracy: 0.9833 - val_loss: 0.0383 - val_accuracy: 0.9819\n",
            "Epoch 8/10\n",
            "71/71 [==============================] - 11s 157ms/step - loss: 0.0466 - accuracy: 0.9805 - val_loss: 0.0315 - val_accuracy: 0.9864\n",
            "Epoch 9/10\n",
            "71/71 [==============================] - 11s 156ms/step - loss: 0.0381 - accuracy: 0.9839 - val_loss: 0.0302 - val_accuracy: 0.9872\n",
            "Epoch 10/10\n",
            "71/71 [==============================] - 11s 156ms/step - loss: 0.0369 - accuracy: 0.9846 - val_loss: 0.0421 - val_accuracy: 0.9816\n",
            "146.13091802597046\n"
          ]
        }
      ]
    },
    {
      "cell_type": "code",
      "metadata": {
        "id": "p9TAsreOM20C",
        "colab": {
          "base_uri": "https://localhost:8080/"
        },
        "outputId": "2fcba791-251d-409f-db87-0b5db5f84c23"
      },
      "source": [
        "print(model.summary())"
      ],
      "execution_count": 39,
      "outputs": [
        {
          "output_type": "stream",
          "name": "stdout",
          "text": [
            "Model: \"sequential\"\n",
            "_________________________________________________________________\n",
            " Layer (type)                Output Shape              Param #   \n",
            "=================================================================\n",
            " lstm (LSTM)                 (None, 30, 100)           50400     \n",
            "                                                                 \n",
            " dropout (Dropout)           (None, 30, 100)           0         \n",
            "                                                                 \n",
            " lstm_1 (LSTM)               (None, 50)                30200     \n",
            "                                                                 \n",
            " dropout_1 (Dropout)         (None, 50)                0         \n",
            "                                                                 \n",
            " dense (Dense)               (None, 1)                 51        \n",
            "                                                                 \n",
            "=================================================================\n",
            "Total params: 80,651\n",
            "Trainable params: 80,651\n",
            "Non-trainable params: 0\n",
            "_________________________________________________________________\n",
            "None\n"
          ]
        }
      ]
    },
    {
      "cell_type": "code",
      "metadata": {
        "colab": {
          "base_uri": "https://localhost:8080/",
          "height": 295
        },
        "id": "Xw_Sk68MvliC",
        "outputId": "478ec92b-8c8d-48c7-e93c-0d5cb067320b"
      },
      "source": [
        "plt.plot(history.history['accuracy'],\n",
        "         'b',\n",
        "         label='Training accuracy')\n",
        "plt.plot(history.history['val_accuracy'],\n",
        "         'r',\n",
        "         label='Validation accuracy')\n",
        "plt.legend(loc='best')\n",
        "plt.title(\"LSTM Model (100+50) hidden, seq=30\")\n",
        "plt.xlabel('Epochs')\n",
        "plt.ylabel('Accuracy')\n",
        "plt.ylim([0.7,1])\n",
        "plt.show()"
      ],
      "execution_count": 40,
      "outputs": [
        {
          "output_type": "display_data",
          "data": {
            "text/plain": [
              "<Figure size 432x288 with 1 Axes>"
            ],
            "image/png": "[encoded data removed]"
          },
          "metadata": {
            "needs_background": "light"
          }
        }
      ]
    },
    {
      "cell_type": "code",
      "metadata": {
        "id": "_w8iZDrXVWRt",
        "colab": {
          "base_uri": "https://localhost:8080/"
        },
        "outputId": "ef89e387-ef52-4027-b4e2-0ebbf78b0105"
      },
      "source": [
        "# training metrics\n",
        "scores = model.evaluate(seq_array, label_array, verbose=1, batch_size=200)\n",
        "print('Accurracy: {}'.format(scores[1]))"
      ],
      "execution_count": 41,
      "outputs": [
        {
          "output_type": "stream",
          "name": "stdout",
          "text": [
            "89/89 [==============================] - 5s 61ms/step - loss: 0.0360 - accuracy: 0.9848\n",
            "Accurracy: 0.9847995042800903\n"
          ]
        }
      ]
    },
    {
      "cell_type": "code",
      "metadata": {
        "colab": {
          "base_uri": "https://localhost:8080/"
        },
        "id": "3oiG8PyLVWRw",
        "outputId": "a0921812-172a-4ce6-e056-db14e1a9e18d"
      },
      "source": [
        "# make predictions and compute confusion matrix\n",
        "predict_x = model.predict(seq_array,verbose=1, batch_size=200)\n",
        "y_pred=np.argmax(predict_x,axis=1)\n",
        "y_true = label_array\n",
        "print('Confusion matrix\\n- x-axis is true labels.\\n- y-axis is predicted labels')\n",
        "cm = confusion_matrix(y_true, y_pred)\n",
        "cm"
      ],
      "execution_count": 45,
      "outputs": [
        {
          "output_type": "stream",
          "name": "stdout",
          "text": [
            "89/89 [==============================] - 4s 50ms/step\n",
            "Confusion matrix\n",
            "- x-axis is true labels.\n",
            "- y-axis is predicted labels\n"
          ]
        },
        {
          "output_type": "execute_result",
          "data": {
            "text/plain": [
              "array([[16031,     0],\n",
              "       [ 1600,     0]])"
            ]
          },
          "metadata": {},
          "execution_count": 45
        }
      ]
    },
    {
      "cell_type": "code",
      "metadata": {
        "id": "0R3yAI25xDsw"
      },
      "source": [
        "import matplotlib.pyplot as plt\n",
        "import seaborn as sns\n",
        "import itertools"
      ],
      "execution_count": 46,
      "outputs": []
    },
    {
      "cell_type": "code",
      "metadata": {
        "colab": {
          "base_uri": "https://localhost:8080/",
          "height": 329
        },
        "id": "9ww6DAHJwekE",
        "outputId": "ae3d24f7-7d5c-4308-8c9c-85a7bc0f716d"
      },
      "source": [
        "classes = [0, 1]\n",
        "# plot confusion matrix\n",
        "plt.imshow(cm, interpolation='nearest', cmap=plt.cm.Blues)\n",
        "plt.title(\"LSTM Model Confusion Matrix\")\n",
        "plt.colorbar()\n",
        "tick_marks = np.arange(len(classes))\n",
        "plt.xticks(tick_marks, classes)\n",
        "plt.yticks(tick_marks, classes)\n",
        "\n",
        "fmt = 'd'\n",
        "thresh = cm.max() / 2.\n",
        "for i, j in itertools.product(range(cm.shape[0]), range(cm.shape[1])):\n",
        "    plt.text(j, i, format(cm[i, j], fmt),\n",
        "             horizontalalignment=\"center\",\n",
        "             color=\"white\" if cm[i, j] > thresh else \"black\")\n",
        "\n",
        "plt.tight_layout()\n",
        "plt.ylabel('True Label')\n",
        "plt.xlabel('Predicted Label')"
      ],
      "execution_count": 47,
      "outputs": [
        {
          "output_type": "execute_result",
          "data": {
            "text/plain": [
              "Text(0.5, 15.0, 'Predicted Label')"
            ]
          },
          "metadata": {},
          "execution_count": 47
        },
        {
          "output_type": "display_data",
          "data": {
            "text/plain": [
              "<Figure size 432x288 with 2 Axes>"
            ],
            "image/png": "[encoded data removed]"
          },
          "metadata": {
            "needs_background": "light"
          }
        }
      ]
    },
    {
      "cell_type": "code",
      "metadata": {
        "colab": {
          "base_uri": "https://localhost:8080/"
        },
        "id": "EEUnEdL3VWRy",
        "outputId": "74050426-7ae0-4557-8edc-181230c59d3b"
      },
      "source": [
        "# compute precision and recall\n",
        "precision = precision_score(y_true, y_pred)\n",
        "recall = recall_score(y_true, y_pred)\n",
        "print( 'precision = ', precision, '\\n', 'recall = ', recall)"
      ],
      "execution_count": 48,
      "outputs": [
        {
          "output_type": "stream",
          "name": "stdout",
          "text": [
            "precision =  0.0 \n",
            " recall =  0.0\n"
          ]
        },
        {
          "output_type": "stream",
          "name": "stderr",
          "text": [
            "/usr/local/lib/python3.7/dist-packages/sklearn/metrics/_classification.py:1318: UndefinedMetricWarning: Precision is ill-defined and being set to 0.0 due to no predicted samples. Use `zero_division` parameter to control this behavior.\n",
            "  _warn_prf(average, modifier, msg_start, len(result))\n"
          ]
        }
      ]
    },
    {
      "cell_type": "code",
      "metadata": {
        "colab": {
          "base_uri": "https://localhost:8080/"
        },
        "id": "z8H9e_NNCQY-",
        "outputId": "e90b3e5b-7435-4c8f-c89b-543fadff15bb"
      },
      "source": [
        "\n",
        "f1 = 2 * (precision * recall) / (precision + recall)\n",
        "print( 'Precision: ', precision, '\\n', 'Recall: ', recall,'\\n', 'F1-score:', f1)"
      ],
      "execution_count": 49,
      "outputs": [
        {
          "output_type": "stream",
          "name": "stdout",
          "text": [
            "Precision:  0.0 \n",
            " Recall:  0.0 \n",
            " F1-score: nan\n"
          ]
        },
        {
          "output_type": "stream",
          "name": "stderr",
          "text": [
            "/usr/local/lib/python3.7/dist-packages/ipykernel_launcher.py:2: RuntimeWarning: invalid value encountered in double_scalars\n",
            "  \n"
          ]
        }
      ]
    },
    {
      "cell_type": "code",
      "metadata": {
        "id": "ThqAYAS2Uuwc"
      },
      "source": [
        "from sklearn.metrics import roc_curve\n",
        "from sklearn.metrics import auc\n",
        "fpr_train, tpr_train, thresholds_train = roc_curve(y_true, y_pred)\n",
        "auc_train = auc(fpr_train, tpr_train)"
      ],
      "execution_count": 50,
      "outputs": []
    },
    {
      "cell_type": "code",
      "metadata": {
        "colab": {
          "base_uri": "https://localhost:8080/"
        },
        "id": "Tm6t1TKjPVC_",
        "outputId": "86301265-be86-4848-c817-4540a218530e"
      },
      "source": [
        "scores_test = model.evaluate(seq_array_test, label_array_test, verbose=2)\n",
        "print('Accurracy: {}'.format(scores_test[1]))"
      ],
      "execution_count": 51,
      "outputs": [
        {
          "output_type": "stream",
          "name": "stdout",
          "text": [
            "316/316 - 4s - loss: 0.0078 - accuracy: 0.9970 - 4s/epoch - 12ms/step\n",
            "Accurracy: 0.9970285296440125\n"
          ]
        }
      ]
    },
    {
      "cell_type": "code",
      "metadata": {
        "colab": {
          "base_uri": "https://localhost:8080/"
        },
        "id": "8l2do8rsVWSJ",
        "outputId": "7bc2fe34-32d8-484c-ec44-eada39fd7217"
      },
      "source": [
        "# make predictions and compute confusion matrix\n",
        "pred_x = model.predict(seq_array_test)\n",
        "y_pred_test = np.argmax(pred_x,axis=1)\n",
        "y_true_test = label_array_test\n",
        "print('Confusion matrix\\n- x-axis is true labels.\\n- y-axis is predicted labels')\n",
        "cm = confusion_matrix(y_true_test, y_pred_test)\n",
        "cm"
      ],
      "execution_count": 54,
      "outputs": [
        {
          "output_type": "stream",
          "name": "stdout",
          "text": [
            "Confusion matrix\n",
            "- x-axis is true labels.\n",
            "- y-axis is predicted labels\n"
          ]
        },
        {
          "output_type": "execute_result",
          "data": {
            "text/plain": [
              "array([[10036,     0],\n",
              "       [   60,     0]])"
            ]
          },
          "metadata": {},
          "execution_count": 54
        }
      ]
    },
    {
      "cell_type": "code",
      "metadata": {
        "colab": {
          "base_uri": "https://localhost:8080/",
          "height": 329
        },
        "id": "Zc4zmmWb0G43",
        "outputId": "4349f669-fc4a-4dc7-8aad-fe55f022f86f"
      },
      "source": [
        "classes = [0, 1]\n",
        "# plot confusion matrix\n",
        "plt.imshow(cm, interpolation='nearest', cmap=plt.cm.Reds)\n",
        "plt.title(\"LSTM Model Test Confusion Matrix\")\n",
        "plt.colorbar()\n",
        "tick_marks = np.arange(len(classes))\n",
        "plt.xticks(tick_marks, classes)\n",
        "plt.yticks(tick_marks, classes)\n",
        "\n",
        "fmt = 'd'\n",
        "thresh = cm.max() / 2.\n",
        "for i, j in itertools.product(range(cm.shape[0]), range(cm.shape[1])):\n",
        "    plt.text(j, i, format(cm[i, j], fmt),\n",
        "             horizontalalignment=\"center\",\n",
        "             color=\"white\" if cm[i, j] > thresh else \"black\")\n",
        "\n",
        "plt.tight_layout()\n",
        "plt.ylabel('True Label')\n",
        "plt.xlabel('Predicted Label')"
      ],
      "execution_count": 55,
      "outputs": [
        {
          "output_type": "execute_result",
          "data": {
            "text/plain": [
              "Text(0.5, 15.0, 'Predicted Label')"
            ]
          },
          "metadata": {},
          "execution_count": 55
        },
        {
          "output_type": "display_data",
          "data": {
            "text/plain": [
              "<Figure size 432x288 with 2 Axes>"
            ],
            "image/png": "[encoded data removed]"
          },
          "metadata": {
            "needs_background": "light"
          }
        }
      ]
    },
    {
      "cell_type": "code",
      "metadata": {
        "colab": {
          "base_uri": "https://localhost:8080/"
        },
        "id": "-ihiyzapVWSM",
        "outputId": "ef185ec2-a559-4b80-bea5-5711a095ea17"
      },
      "source": [
        "# compute precision and recall\n",
        "precision_test = precision_score(y_true_test, y_pred_test)\n",
        "recall_test = recall_score(y_true_test, y_pred_test)\n",
        "f1_test = 2 * (precision_test * recall_test) / (precision_test + recall_test)\n",
        "print( 'Precision: ', precision_test, '\\n', 'Recall: ', recall_test,'\\n', 'F1-score:', f1_test )"
      ],
      "execution_count": 56,
      "outputs": [
        {
          "output_type": "stream",
          "name": "stdout",
          "text": [
            "Precision:  0.0 \n",
            " Recall:  0.0 \n",
            " F1-score: nan\n"
          ]
        },
        {
          "output_type": "stream",
          "name": "stderr",
          "text": [
            "/usr/local/lib/python3.7/dist-packages/sklearn/metrics/_classification.py:1318: UndefinedMetricWarning: Precision is ill-defined and being set to 0.0 due to no predicted samples. Use `zero_division` parameter to control this behavior.\n",
            "  _warn_prf(average, modifier, msg_start, len(result))\n",
            "/usr/local/lib/python3.7/dist-packages/ipykernel_launcher.py:4: RuntimeWarning: invalid value encountered in double_scalars\n",
            "  after removing the cwd from sys.path.\n"
          ]
        }
      ]
    },
    {
      "cell_type": "code",
      "metadata": {
        "colab": {
          "base_uri": "https://localhost:8080/",
          "height": 112
        },
        "id": "t3cpUB_AVWSO",
        "outputId": "c03b9940-a044-43d3-d811-1d8c0a1dd07b"
      },
      "source": [
        "results_df = pd.DataFrame([[scores_test[1],precision_test,recall_test,f1_test],\n",
        "                          [0.94, 0.952381, 0.8, 0.869565]],\n",
        "                         columns = ['Accuracy', 'Precision', 'Recall', 'F1-score'],\n",
        "                         index = ['LSTM',\n",
        "                                 'Template Best Model'])\n",
        "results_df"
      ],
      "execution_count": 57,
      "outputs": [
        {
          "output_type": "execute_result",
          "data": {
            "text/plain": [
              "                     Accuracy  Precision  Recall  F1-score\n",
              "LSTM                 0.997029   0.000000     0.0       NaN\n",
              "Template Best Model  0.940000   0.952381     0.8  0.869565"
            ],
            "text/html": [
              "\n",
              "  <div id=\"df-7f6b0545-0989-40dc-81d5-596788b91dea\">\n",
              "    <div class=\"colab-df-container\">\n",
              "      <div>\n",
              "<style scoped>\n",
              "    .dataframe tbody tr th:only-of-type {\n",
              "        vertical-align: middle;\n",
              "    }\n",
              "\n",
              "    .dataframe tbody tr th {\n",
              "        vertical-align: top;\n",
              "    }\n",
              "\n",
              "    .dataframe thead th {\n",
              "        text-align: right;\n",
              "    }\n",
              "</style>\n",
              "<table border=\"1\" class=\"dataframe\">\n",
              "  <thead>\n",
              "    <tr style=\"text-align: right;\">\n",
              "      <th></th>\n",
              "      <th>Accuracy</th>\n",
              "      <th>Precision</th>\n",
              "      <th>Recall</th>\n",
              "      <th>F1-score</th>\n",
              "    </tr>\n",
              "  </thead>\n",
              "  <tbody>\n",
              "    <tr>\n",
              "      <th>LSTM</th>\n",
              "      <td>0.997029</td>\n",
              "      <td>0.000000</td>\n",
              "      <td>0.0</td>\n",
              "      <td>NaN</td>\n",
              "    </tr>\n",
              "    <tr>\n",
              "      <th>Template Best Model</th>\n",
              "      <td>0.940000</td>\n",
              "      <td>0.952381</td>\n",
              "      <td>0.8</td>\n",
              "      <td>0.869565</td>\n",
              "    </tr>\n",
              "  </tbody>\n",
              "</table>\n",
              "</div>\n",
              "      <button class=\"colab-df-convert\" onclick=\"convertToInteractive('df-7f6b0545-0989-40dc-81d5-596788b91dea')\"\n",
              "              title=\"Convert this dataframe to an interactive table.\"\n",
              "              style=\"display:none;\">\n",
              "        \n",
              "  <svg xmlns=\"http://www.w3.org/2000/svg\" height=\"24px\"viewBox=\"0 0 24 24\"\n",
              "       width=\"24px\">\n",
              "    <path d=\"M0 0h24v24H0V0z\" fill=\"none\"/>\n",
              "    <path d=\"M18.56 5.44l.94 2.06.94-2.06 2.06-.94-2.06-.94-.94-2.06-.94 2.06-2.06.94zm-11 1L8.5 8.5l.94-2.06 2.06-.94-2.06-.94L8.5 2.5l-.94 2.06-2.06.94zm10 10l.94 2.06.94-2.06 2.06-.94-2.06-.94-.94-2.06-.94 2.06-2.06.94z\"/><path d=\"M17.41 7.96l-1.37-1.37c-.4-.4-.92-.59-1.43-.59-.52 0-1.04.2-1.43.59L10.3 9.45l-7.72 7.72c-.78.78-.78 2.05 0 2.83L4 21.41c.39.39.9.59 1.41.59.51 0 1.02-.2 1.41-.59l7.78-7.78 2.81-2.81c.8-.78.8-2.07 0-2.86zM5.41 20L4 18.59l7.72-7.72 1.47 1.35L5.41 20z\"/>\n",
              "  </svg>\n",
              "      </button>\n",
              "      \n",
              "  <style>\n",
              "    .colab-df-container {\n",
              "      display:flex;\n",
              "      flex-wrap:wrap;\n",
              "      gap: 12px;\n",
              "    }\n",
              "\n",
              "    .colab-df-convert {\n",
              "      background-color: #E8F0FE;\n",
              "      border: none;\n",
              "      border-radius: 50%;\n",
              "      cursor: pointer;\n",
              "      display: none;\n",
              "      fill: #1967D2;\n",
              "      height: 32px;\n",
              "      padding: 0 0 0 0;\n",
              "      width: 32px;\n",
              "    }\n",
              "\n",
              "    .colab-df-convert:hover {\n",
              "      background-color: #E2EBFA;\n",
              "      box-shadow: 0px 1px 2px rgba(60, 64, 67, 0.3), 0px 1px 3px 1px rgba(60, 64, 67, 0.15);\n",
              "      fill: #174EA6;\n",
              "    }\n",
              "\n",
              "    [theme=dark] .colab-df-convert {\n",
              "      background-color: #3B4455;\n",
              "      fill: #D2E3FC;\n",
              "    }\n",
              "\n",
              "    [theme=dark] .colab-df-convert:hover {\n",
              "      background-color: #434B5C;\n",
              "      box-shadow: 0px 1px 3px 1px rgba(0, 0, 0, 0.15);\n",
              "      filter: drop-shadow(0px 1px 2px rgba(0, 0, 0, 0.3));\n",
              "      fill: #FFFFFF;\n",
              "    }\n",
              "  </style>\n",
              "\n",
              "      <script>\n",
              "        const buttonEl =\n",
              "          document.querySelector('#df-7f6b0545-0989-40dc-81d5-596788b91dea button.colab-df-convert');\n",
              "        buttonEl.style.display =\n",
              "          google.colab.kernel.accessAllowed ? 'block' : 'none';\n",
              "\n",
              "        async function convertToInteractive(key) {\n",
              "          const element = document.querySelector('#df-7f6b0545-0989-40dc-81d5-596788b91dea');\n",
              "          const dataTable =\n",
              "            await google.colab.kernel.invokeFunction('convertToInteractive',\n",
              "                                                     [key], {});\n",
              "          if (!dataTable) return;\n",
              "\n",
              "          const docLinkHtml = 'Like what you see? Visit the ' +\n",
              "            '<a target=\"_blank\" href=https://colab.research.google.com/notebooks/data_table.ipynb>data table notebook</a>'\n",
              "            + ' to learn more about interactive tables.';\n",
              "          element.innerHTML = '';\n",
              "          dataTable['output_type'] = 'display_data';\n",
              "          await google.colab.output.renderOutput(dataTable, element);\n",
              "          const docLink = document.createElement('div');\n",
              "          docLink.innerHTML = docLinkHtml;\n",
              "          element.appendChild(docLink);\n",
              "        }\n",
              "      </script>\n",
              "    </div>\n",
              "  </div>\n",
              "  "
            ]
          },
          "metadata": {},
          "execution_count": 57
        }
      ]
    },
    {
      "cell_type": "code",
      "metadata": {
        "id": "VzKxPMYMVkmO"
      },
      "source": [
        "fpr_test, tpr_test, thresholds_test = roc_curve(y_true_test, y_pred_test)\n",
        "auc_test = auc(fpr_test, tpr_test)"
      ],
      "execution_count": 58,
      "outputs": []
    },
    {
      "cell_type": "code",
      "metadata": {
        "colab": {
          "base_uri": "https://localhost:8080/",
          "height": 295
        },
        "id": "ooyGFZomVjZI",
        "outputId": "38923ed6-78f0-4b1f-aadb-d6603db1859a"
      },
      "source": [
        "plt.figure(1)\n",
        "plt.plot([0, 1], [0, 1], 'k--')\n",
        "plt.plot(fpr_train, tpr_train, label='Train (area = {:.3f})'.format(auc_train), color=\"blue\")\n",
        "plt.plot(fpr_test, tpr_test, label='Test (area = {:.3f})'.format(auc_test), color=\"red\")\n",
        "plt.xlabel('False positive rate')\n",
        "plt.ylabel('True positive rate')\n",
        "plt.title('ROC curve LSTM seq_length=30')\n",
        "plt.legend(loc='best')\n",
        "plt.show()\n"
      ],
      "execution_count": 59,
      "outputs": [
        {
          "output_type": "display_data",
          "data": {
            "text/plain": [
              "<Figure size 432x288 with 1 Axes>"
            ],
            "image/png": "[encoded data removed]"
          },
          "metadata": {
            "needs_background": "light"
          }
        }
      ]
    },
    {
      "cell_type": "markdown",
      "metadata": {
        "id": "o2gTZP0nVWSS"
      },
      "source": [
        "Comparing the above test results to the predictive maintenance template, we see that the LSTM results are better than the template. It should be noted that the  data set used here is very small and deep learning models are known to perform superior with large datasets so for a more fair comparison larger datasets should be used."
      ]
    },
    {
      "cell_type": "markdown",
      "metadata": {
        "id": "pUqjhHYUnejY"
      },
      "source": [
        "# **Bees Algorithm for Training Deep Models**"
      ]
    },
    {
      "cell_type": "code",
      "metadata": {
        "colab": {
          "base_uri": "https://localhost:8080/",
          "height": 146
        },
        "id": "Aep4Ogkgn-4g",
        "outputId": "b270bb1c-fda1-4e8d-b820-6b53abdac408"
      },
      "source": [
        "!pip install tensorflow==2.0.0-beta1\n",
        "import tensorflow as tf\n",
        "\n",
        "tf.__version__\n",
        "print(\"TensorFlow version: {}\".format(tf.__version__))\n",
        "\n",
        "\n",
        "print(\"Eager execution: {}\".format(tf.executing_eagerly()))\n",
        "\n",
        "tf.keras.__version__\n"
      ],
      "execution_count": 60,
      "outputs": [
        {
          "output_type": "stream",
          "name": "stdout",
          "text": [
            "Looking in indexes: https://pypi.org/simple, https://us-python.pkg.dev/colab-wheels/public/simple/\n",
            "\u001b[31mERROR: Could not find a version that satisfies the requirement tensorflow==2.0.0-beta1 (from versions: 1.13.1, 1.13.2, 1.14.0, 1.15.0, 1.15.2, 1.15.3, 1.15.4, 1.15.5, 2.0.0, 2.0.1, 2.0.2, 2.0.3, 2.0.4, 2.1.0, 2.1.1, 2.1.2, 2.1.3, 2.1.4, 2.2.0, 2.2.1, 2.2.2, 2.2.3, 2.3.0, 2.3.1, 2.3.2, 2.3.3, 2.3.4, 2.4.0, 2.4.1, 2.4.2, 2.4.3, 2.4.4, 2.5.0, 2.5.1, 2.5.2, 2.5.3, 2.6.0rc0, 2.6.0rc1, 2.6.0rc2, 2.6.0, 2.6.0+zzzcolab20220506153740, 2.6.1, 2.6.2, 2.6.3, 2.6.4, 2.6.4+zzzcolab20220516125453, 2.6.5, 2.6.5+zzzcolab20220523104206, 2.7.0rc0, 2.7.0rc1, 2.7.0, 2.7.0+zzzcolab20220506150900, 2.7.1, 2.7.2, 2.7.2+zzzcolab20220516114640, 2.7.3, 2.7.3+zzzcolab20220523111007, 2.8.0rc0, 2.8.0rc1, 2.8.0, 2.8.0+zzzcolab20220506162203, 2.8.1, 2.8.1+zzzcolab20220516111314, 2.8.1+zzzcolab20220518083849, 2.8.2, 2.8.2+zzzcolab20220523105045, 2.8.2+zzzcolab20220527125636, 2.9.0rc0, 2.9.0rc1, 2.9.0rc2, 2.9.0, 2.9.1)\u001b[0m\n",
            "\u001b[31mERROR: No matching distribution found for tensorflow==2.0.0-beta1\u001b[0m\n",
            "TensorFlow version: 2.8.2\n",
            "Eager execution: True\n"
          ]
        },
        {
          "output_type": "execute_result",
          "data": {
            "text/plain": [
              "'2.8.0'"
            ],
            "application/vnd.google.colaboratory.intrinsic+json": {
              "type": "string"
            }
          },
          "metadata": {},
          "execution_count": 60
        }
      ]
    },
    {
      "cell_type": "code",
      "metadata": {
        "id": "1tAsqDK-n3Ys"
      },
      "source": [
        "loss_object = tf.keras.losses.binary_crossentropy\n",
        "\n",
        "def loss(model, x, y):\n",
        "    y_ = model(x)\n",
        "    y_ = tf.reshape(y_,[y.shape[0],])\n",
        "    return loss_object(y_true=y, y_pred=y_)\n"
      ],
      "execution_count": 61,
      "outputs": []
    },
    {
      "cell_type": "code",
      "metadata": {
        "id": "vMXMXpt1ovW8"
      },
      "source": [
        "def get_best_solution(beeList):\n",
        "  #best_tensor_index = tf.math.argmin(input = lossList)\n",
        "  #best_index = tf.cast(best_tensor_index,dtype=tf.int64)\n",
        "  #print(best_index)\n",
        "  \n",
        "  beeList.sort(key=lambda bee: bee.Loss, reverse=False)\n",
        "  best_loss = beeList[0].Loss\n",
        "  best_weights = beeList[0].Weight\n",
        "  best_model = beeList[0].Model\n",
        "      \n",
        "  return best_loss,best_weights,best_model"
      ],
      "execution_count": 62,
      "outputs": []
    },
    {
      "cell_type": "code",
      "metadata": {
        "id": "5ODjtOVMowrl"
      },
      "source": [
        "def performBeeDance(weights,ngh):\n",
        "  \n",
        "  #random.shuffle(weights)\n",
        "  print(\"Onceki ağırlıklar\", weights)\n",
        "  my_weights = np.array(weights)\n",
        "  w_rnd = my_weights.astype(\"int32\")\n",
        "  print(w_rnd)\n",
        "  for w in weights:\n",
        "      w_random = tf.random.uniform(tf.shape(w_rnd), minval=-ngh, maxval=ngh, dtype=tf.float32, seed=None, name=None)\n",
        "      w_tf = w + w_random\n",
        "      if w != 0:\n",
        "        w = w_tf\n",
        "  print(w) "
      ],
      "execution_count": 63,
      "outputs": []
    },
    {
      "cell_type": "code",
      "metadata": {
        "id": "SzkATxhDwxpx"
      },
      "source": [
        "def performBeeMutation(weights,ngh):\n",
        "  \n",
        "  random.shuffle(weights)\n",
        "  "
      ],
      "execution_count": 64,
      "outputs": []
    },
    {
      "cell_type": "code",
      "metadata": {
        "id": "fyZl6mx-o9D3"
      },
      "source": [
        "import numpy as np\n",
        "import random\n",
        "\n",
        "maxIt = 10\n",
        "nScout = 3\n",
        "nSelectedSite = 1\n",
        "nEliteSite = 1\n",
        "nSelectedSiteBee = 1\n",
        "nEliteSiteBee = 1\n",
        "ngh = 0.1   # Neighborhood Radius\n",
        "beeList = []\n",
        "rdamp = 0.95  # Neighborhood Radius Damp Rate\n",
        "\n",
        "class Bee():\n",
        "    def __init__(self,Weight,Loss,Model):\n",
        "        self.Weight = Weight\n",
        "        self.Loss = Loss\n",
        "        self.Model = Model\n",
        "\n",
        "    def __getWeight__(self):\n",
        "        return self.Weight\n",
        "\n",
        "    def __getLoss__(self):\n",
        "        return self.Loss\n",
        "\n",
        "    def __getModel__(self):\n",
        "        return self.Model\n",
        "\n",
        "    Weight: []\n",
        "    Loss: float\n",
        "    Model: object  \n",
        "\n",
        "initial_loses = []\n",
        "initial_weights = []\n",
        "initial_models = []\n",
        "\n",
        "#Create initial Solutions\n",
        "\n",
        "for i in range(nScout):\n",
        "   # build the network\n",
        "    nb_features = seq_array.shape[2]\n",
        "    nb_out = label_array.shape[1]\n",
        "\n",
        "    model = Sequential()\n",
        "\n",
        "    model.add(LSTM(\n",
        "         input_shape=(sequence_length, nb_features),\n",
        "         units=100,\n",
        "         return_sequences=True))\n",
        "    \n",
        "    model.add(Dropout(0.2))\n",
        "    model.add(LSTM(\n",
        "          units=50,\n",
        "          return_sequences=False))\n",
        "    model.add(Dropout(0.2))\n",
        "\n",
        "    model.add(Dense(units=nb_out, activation='sigmoid'))\n",
        "\n",
        "    l = loss(model, seq_array, label_array)\n",
        "    \n",
        "    bee = Bee(0,0,None)\n",
        "    bee.Weight = model.weights\n",
        "    #bee.Loss = l\n",
        "    bee.Loss = tf.reduce_mean(l)\n",
        "    bee.Model = model\n",
        "    \n",
        "    beeList.append(bee)\n",
        "   \n",
        "    initial_loses.append(l)\n",
        "    initial_weights.append(model.weights)\n",
        "    initial_models.append(model)\n",
        "    "
      ],
      "execution_count": 65,
      "outputs": []
    },
    {
      "cell_type": "code",
      "metadata": {
        "id": "zp99S8dhrQx7"
      },
      "source": [
        "bestLoss, bestWeight, bestModel = get_best_solution(beeList)"
      ],
      "execution_count": 66,
      "outputs": []
    },
    {
      "cell_type": "code",
      "metadata": {
        "id": "vcrmSvfQrGvp"
      },
      "source": [
        "import math\n",
        "\n",
        "def recruitmentPhase(beeList, nSelectedSite, nEliteSite, ngh):\n",
        "        \n",
        "\n",
        "        beeList.sort(key=lambda bee: bee.Loss, reverse=False)\n",
        "\n",
        "        # Elite Sites\n",
        "        for i in range(nEliteSite):\n",
        "          old_weight = beeList[i].Model.get_weights()\n",
        "          best_new_loss = math.inf\n",
        "          local_model = beeList[i].Model\n",
        "\n",
        "          for j in range(nEliteSiteBee):\n",
        "\n",
        "            local_model.compile(optimizer='adam', loss='binary_crossentropy',  metrics=['accuracy'])\n",
        "            history = local_model.fit(seq_array, label_array, epochs=1, batch_size=200, validation_split=0.2, verbose=1)\n",
        "            new_loss, new_acc = local_model.evaluate(seq_array, label_array, verbose=0)\n",
        "            new_weight = local_model.get_weights()              \n",
        "            beeList[i].Model.set_weights = old_weight               \n",
        "                \n",
        "            if new_loss < best_new_loss:\n",
        "                best_new_loss = new_loss\n",
        "                best_new_weight = new_weight\n",
        "\n",
        "            if best_new_loss < beeList[i].Loss:\n",
        "                beeList[i].Model = local_model\n",
        "                beeList[i].Loss = best_new_loss\n",
        "                beeList[i].Weight = best_new_weight\n",
        "\n",
        "        # Selected Non-Elite Sites\n",
        "        for i in range(nEliteSite,nSelectedSite):\n",
        "            \n",
        "            old_weight = beeList[i].Model.get_weights()\n",
        "            \n",
        "            best_new_loss = math.inf\n",
        "            new_weight = performBeeMutation(old_weight, ngh)\n",
        "            beeList[i].Model.set_weights = new_weight\n",
        "            local_model = beeList[i].Model\n",
        "\n",
        "            for j in range(nSelectedSiteBee):\n",
        "                local_model.compile(optimizer='adam', loss='binary_crossentropy',  metrics=['accuracy'])\n",
        "                history = local_model.fit(seq_array, label_array, epochs=1, batch_size=200, validation_split=0.2, verbose=1)\n",
        "                new_loss, new_acc = local_model.evaluate(seq_array, label_array, verbose=0)\n",
        "                new_weight = local_model.get_weights()              \n",
        "                beeList[i].Model.set_weights = old_weight  \n",
        "\n",
        "                #new_weight = performBeeMutation(old_weight, ngh)\n",
        "                #beeList[i].Model.set_weights = new_weight\n",
        "                #new_loss = loss(beeList[i].Model, seq_array, label_array)\n",
        "\n",
        "              \n",
        "                if new_loss < best_new_loss:\n",
        "                    best_new_loss = new_loss\n",
        "                    best_new_weight = new_weight\n",
        "\n",
        "            if best_new_loss < beeList[i].Loss:\n",
        "                beeList[i].Loss = best_new_loss\n",
        "                beeList[i].Weight = best_new_weight\n",
        "                beeList[i].Model.set_weights = best_new_weight"
      ],
      "execution_count": 67,
      "outputs": []
    },
    {
      "cell_type": "code",
      "metadata": {
        "id": "YcSB4etgrJtQ"
      },
      "source": [
        "def globalPhase(beeList, nSelectedSite, nScoutBee):\n",
        "    # Non - Selected Sites\n",
        "    for i in range(nSelectedSite,nScoutBee):\n",
        "      \n",
        "        nb_features = seq_array.shape[2]\n",
        "        nb_out = label_array.shape[1]\n",
        "\n",
        "        model = Sequential()\n",
        "\n",
        "        model.add(LSTM(\n",
        "         input_shape=(sequence_length, nb_features),\n",
        "         units=100,\n",
        "         return_sequences=True))\n",
        "        model.add(Dropout(0.2))\n",
        "        model.add(LSTM(\n",
        "          units=50,\n",
        "          return_sequences=False))\n",
        "        model.add(Dropout(0.2))\n",
        "\n",
        "        model.add(Dense(units=nb_out, activation='sigmoid'))\n",
        "        model.compile(loss='binary_crossentropy', optimizer='adam', metrics=['accuracy'])\n",
        "        model.fit(seq_array, label_array, epochs=1, batch_size=200, validation_split=0.2, verbose=1)\n",
        "        loss, accuracy = model.evaluate(seq_array, label_array, verbose=0)\n",
        "\n",
        "        #l = loss(model, seq_array, label_array)\n",
        "    \n",
        "        # beeList[i].Loss = l\n",
        "        beeList[i].Loss = tf.reduce_mean(loss)\n",
        "        beeList[i].Weight = model.weights\n",
        "        beeList[i].Model = model"
      ],
      "execution_count": 68,
      "outputs": []
    },
    {
      "cell_type": "code",
      "metadata": {
        "id": "qXOuC_QBCftP"
      },
      "source": [
        "from time import time"
      ],
      "execution_count": 69,
      "outputs": []
    },
    {
      "cell_type": "code",
      "metadata": {
        "colab": {
          "base_uri": "https://localhost:8080/"
        },
        "id": "WFjCRKlBrOub",
        "outputId": "3dba8c81-f1fc-4324-f0f6-f670f53b5c2b"
      },
      "source": [
        "# Array to Hold Best Cost Values\n",
        "BestCost = [0] * maxIt\n",
        "\n",
        "# site abandonment threshold\n",
        "sat = 300000\n",
        "counter = 0\n",
        "improvement = None\n",
        "\n",
        "start = time()\n",
        "\n",
        "for it in range(4):\n",
        "  \n",
        "    recruitmentPhase(beeList, nSelectedSite, nEliteSite, ngh)\n",
        "    globalPhase(beeList, nSelectedSite, nScout)\n",
        "    best_loss,best_weights,best_model = get_best_solution(beeList)\n",
        "    \n",
        "    #Store Best Cost Ever Found\n",
        "    BestCost[it] = best_loss\n",
        "    \n",
        "    \n",
        "    if BestCost[it] == BestCost[it-1]:\n",
        "        counter+=1\n",
        "        impovement = False\n",
        "      \n",
        "    mod = tf.math.mod(counter, sat) \n",
        "    \n",
        "    \n",
        "    best_loss_sat = math.inf\n",
        "    best_weights_sat = math.inf\n",
        "    best_model_sat = math.inf\n",
        "    \n",
        "    if counter==sat and (not impovement):\n",
        "      globalPhase(beeList, 0, nSelectedSite)\n",
        "      globalPhase(beeList, nSelectedSite, nScout)\n",
        "      best_loss_sat,best_weights_sat,best_model_sat = get_best_solution(beeList)\n",
        "      best_loss,best_weights,best_model = get_best_solution(beeList)\n",
        "      counter = 0\n",
        "\n",
        "      if best_loss_sat < best_loss:\n",
        "          best_loss = best_loss_sat\n",
        "          best_weights = best_weights_sat\n",
        "          best_model = best_model_sat\n",
        "\n",
        "    best_model.compile(optimizer='adam', loss='binary_crossentropy',  metrics=['accuracy'])\n",
        "    history = best_model.fit(seq_array, label_array, epochs=1, batch_size=200, validation_split=0.2, verbose=1)\n",
        "    loss, accuracy = best_model.evaluate(seq_array, label_array, verbose=0)\n",
        "    print(\"Loss\",loss)\n",
        "    print(\"Acc\",accuracy)\n",
        "    #Store Best Cost Ever Found\n",
        "    BestCost[it] = loss\n",
        "    \n",
        "    \n",
        "    #Display Iteration Information\n",
        "    #print(['Iteration ' + str(it) + ': Best Cost = ' + str(BestCost[it])])\n",
        "  \n",
        "    #Damp Neighborhood Radius\n",
        "    #rdamp = 0.95  # Neighborhood Radius Damp Rate\n",
        "    #ngh = ngh * rdamp\n",
        "    \n",
        "    sc=0.001  # Shrink all the patches using the shrinking constant (sc) variable\n",
        "    ngh = ngh*(l-sc)\n",
        "\n",
        "end = time()\n",
        "\n",
        "print(\"Total training time:\", end-start)\n",
        "    \n"
      ],
      "execution_count": 70,
      "outputs": [
        {
          "output_type": "stream",
          "name": "stdout",
          "text": [
            "71/71 [==============================] - 24s 274ms/step - loss: 0.1738 - accuracy: 0.9389 - val_loss: 0.0946 - val_accuracy: 0.9612\n",
            "71/71 [==============================] - 25s 244ms/step - loss: 0.1779 - accuracy: 0.9351 - val_loss: 0.1016 - val_accuracy: 0.9552\n",
            "71/71 [==============================] - 15s 168ms/step - loss: 0.2144 - accuracy: 0.9129 - val_loss: 0.1357 - val_accuracy: 0.9314\n",
            "71/71 [==============================] - 17s 182ms/step - loss: 0.0761 - accuracy: 0.9696 - val_loss: 0.0569 - val_accuracy: 0.9796\n",
            "Loss 0.0602211132645607\n",
            "Acc 0.9767454862594604\n",
            "71/71 [==============================] - 21s 227ms/step - loss: 0.0530 - accuracy: 0.9784 - val_loss: 0.0564 - val_accuracy: 0.9759\n",
            "71/71 [==============================] - 18s 185ms/step - loss: 0.2394 - accuracy: 0.9112 - val_loss: 0.1270 - val_accuracy: 0.9424\n",
            "71/71 [==============================] - 17s 172ms/step - loss: 0.1794 - accuracy: 0.9336 - val_loss: 0.1032 - val_accuracy: 0.9555\n",
            "71/71 [==============================] - 16s 173ms/step - loss: 0.0471 - accuracy: 0.9806 - val_loss: 0.0474 - val_accuracy: 0.9776\n",
            "Loss 0.04080953821539879\n",
            "Acc 0.9819068908691406\n",
            "71/71 [==============================] - 19s 208ms/step - loss: 0.0418 - accuracy: 0.9829 - val_loss: 0.0390 - val_accuracy: 0.9838\n",
            "71/71 [==============================] - 21s 242ms/step - loss: 0.1858 - accuracy: 0.9341 - val_loss: 0.1081 - val_accuracy: 0.9538\n",
            "71/71 [==============================] - 18s 182ms/step - loss: 0.2280 - accuracy: 0.9092 - val_loss: 0.1346 - val_accuracy: 0.9339\n",
            "71/71 [==============================] - 18s 195ms/step - loss: 0.0491 - accuracy: 0.9793 - val_loss: 0.0328 - val_accuracy: 0.9872\n",
            "Loss 0.03554907813668251\n",
            "Acc 0.9863308668136597\n",
            "71/71 [==============================] - 20s 221ms/step - loss: 0.0431 - accuracy: 0.9828 - val_loss: 0.0300 - val_accuracy: 0.9870\n",
            "71/71 [==============================] - 18s 206ms/step - loss: 0.2279 - accuracy: 0.9226 - val_loss: 0.1286 - val_accuracy: 0.9436\n",
            "71/71 [==============================] - 32s 377ms/step - loss: 0.2164 - accuracy: 0.9168 - val_loss: 0.1116 - val_accuracy: 0.9484\n",
            "71/71 [==============================] - 21s 233ms/step - loss: 0.0439 - accuracy: 0.9821 - val_loss: 0.0342 - val_accuracy: 0.9850\n",
            "Loss 0.031422898173332214\n",
            "Acc 0.9865010380744934\n",
            "Total training time: 494.5730924606323\n"
          ]
        }
      ]
    },
    {
      "cell_type": "code",
      "metadata": {
        "id": "iHCK8T0rwM2-",
        "colab": {
          "base_uri": "https://localhost:8080/"
        },
        "outputId": "1fe99753-4723-4a7a-be4c-8ffe80056cf7"
      },
      "source": [
        "best_model.compile(optimizer='adam', loss='binary_crossentropy',  metrics=['accuracy'])\n",
        "history = best_model.fit(seq_array, label_array, epochs=10, batch_size=200, validation_split=0.2, verbose=1)\n",
        "loss, accuracy = best_model.evaluate(seq_array, label_array, verbose=0)\n",
        "print(\"BA Loss\",loss)\n",
        "print(\"BA Acc\",accuracy)"
      ],
      "execution_count": 71,
      "outputs": [
        {
          "output_type": "stream",
          "name": "stdout",
          "text": [
            "Epoch 1/10\n",
            "71/71 [==============================] - 20s 217ms/step - loss: 0.0451 - accuracy: 0.9816 - val_loss: 0.0309 - val_accuracy: 0.9878\n",
            "Epoch 2/10\n",
            "71/71 [==============================] - 15s 205ms/step - loss: 0.0365 - accuracy: 0.9852 - val_loss: 0.0388 - val_accuracy: 0.9833\n",
            "Epoch 3/10\n",
            "71/71 [==============================] - 15s 206ms/step - loss: 0.0355 - accuracy: 0.9853 - val_loss: 0.0234 - val_accuracy: 0.9892\n",
            "Epoch 4/10\n",
            "71/71 [==============================] - 17s 233ms/step - loss: 0.0307 - accuracy: 0.9873 - val_loss: 0.0262 - val_accuracy: 0.9898\n",
            "Epoch 5/10\n",
            "71/71 [==============================] - 14s 197ms/step - loss: 0.0308 - accuracy: 0.9871 - val_loss: 0.0415 - val_accuracy: 0.9819\n",
            "Epoch 6/10\n",
            "71/71 [==============================] - 18s 252ms/step - loss: 0.0316 - accuracy: 0.9865 - val_loss: 0.0628 - val_accuracy: 0.9733\n",
            "Epoch 7/10\n",
            "71/71 [==============================] - 14s 188ms/step - loss: 0.0316 - accuracy: 0.9875 - val_loss: 0.0318 - val_accuracy: 0.9853\n",
            "Epoch 8/10\n",
            "71/71 [==============================] - 14s 204ms/step - loss: 0.0354 - accuracy: 0.9856 - val_loss: 0.0381 - val_accuracy: 0.9830\n",
            "Epoch 9/10\n",
            "71/71 [==============================] - 13s 188ms/step - loss: 0.0275 - accuracy: 0.9885 - val_loss: 0.0319 - val_accuracy: 0.9861\n",
            "Epoch 10/10\n",
            "71/71 [==============================] - 14s 187ms/step - loss: 0.0305 - accuracy: 0.9868 - val_loss: 0.0407 - val_accuracy: 0.9804\n",
            "BA Loss 0.03602669760584831\n",
            "BA Acc 0.9835516810417175\n"
          ]
        }
      ]
    },
    {
      "cell_type": "code",
      "metadata": {
        "colab": {
          "base_uri": "https://localhost:8080/",
          "height": 283
        },
        "id": "dMWjA8Hup0eD",
        "outputId": "ce988bba-2177-4237-c423-8ddcd2c967d3"
      },
      "source": [
        "plt.plot(history.history['accuracy'],\n",
        "         'b',\n",
        "         label='BA With Mutation Train Acc.')\n",
        "plt.plot(history.history['val_accuracy'],\n",
        "         'r',\n",
        "         label='BA With Mutation Val. Acc.')\n",
        "plt.legend(loc='best')\n",
        "plt.xlabel('Epochs')\n",
        "plt.ylabel('Accuracy')\n",
        "plt.ylim([0.7,1])\n",
        "plt.show()"
      ],
      "execution_count": 72,
      "outputs": [
        {
          "output_type": "display_data",
          "data": {
            "text/plain": [
              "<Figure size 432x288 with 1 Axes>"
            ],
            "image/png": "[encoded data removed]"
          },
          "metadata": {
            "needs_background": "light"
          }
        }
      ]
    },
    {
      "cell_type": "code",
      "metadata": {
        "colab": {
          "base_uri": "https://localhost:8080/"
        },
        "id": "TVS6f-q-lz3c",
        "outputId": "68a2e440-75e8-4f40-bb52-df2de77dc2a9"
      },
      "source": [
        "loss_test, accuracy_test = best_model.evaluate(seq_array_test, label_array_test, verbose=0)\n",
        "print(\"BA Test Loss\",loss)\n",
        "print(\"BA Test Acc\",accuracy)\n"
      ],
      "execution_count": 73,
      "outputs": [
        {
          "output_type": "stream",
          "name": "stdout",
          "text": [
            "BA Test Loss 0.03602669760584831\n",
            "BA Test Acc 0.9835516810417175\n"
          ]
        }
      ]
    },
    {
      "cell_type": "code",
      "metadata": {
        "id": "uv4aWxGF_iP5"
      },
      "source": [
        "import matplotlib.pyplot as plt\n",
        "import seaborn as sns\n",
        "import itertools"
      ],
      "execution_count": 74,
      "outputs": []
    },
    {
      "cell_type": "code",
      "metadata": {
        "colab": {
          "base_uri": "https://localhost:8080/"
        },
        "id": "kfaU0ybBgEde",
        "outputId": "46f83e79-635a-43a6-d345-a68bb62ba513"
      },
      "source": [
        "# make predictions and compute confusion matrix\n",
        "predict_x = best_model.predict(seq_array)\n",
        "y_pred = np.argmax(predict_x,axis=1)\n",
        "y_true = label_array\n",
        "print('Confusion matrix\\n- x-axis is true labels.\\n- y-axis is predicted labels')\n",
        "cm = confusion_matrix(y_true, y_pred)\n",
        "cm"
      ],
      "execution_count": 76,
      "outputs": [
        {
          "output_type": "stream",
          "name": "stdout",
          "text": [
            "Confusion matrix\n",
            "- x-axis is true labels.\n",
            "- y-axis is predicted labels\n"
          ]
        },
        {
          "output_type": "execute_result",
          "data": {
            "text/plain": [
              "array([[16031,     0],\n",
              "       [ 1600,     0]])"
            ]
          },
          "metadata": {},
          "execution_count": 76
        }
      ]
    },
    {
      "cell_type": "code",
      "metadata": {
        "colab": {
          "base_uri": "https://localhost:8080/"
        },
        "id": "eHjTla1f_KQI",
        "outputId": "1f02a0c2-ee37-4d96-d556-c8c304c0ed9b"
      },
      "source": [
        "# make predictions and compute confusion matrix\n",
        "pred_x = best_model.predict(seq_array_test)\n",
        "y_pred_test = np.argmax(pred_x,axis=1)\n",
        "y_true_test = label_array_test\n",
        "print('Confusion matrix\\n- x-axis is true labels.\\n- y-axis is predicted labels')\n",
        "cm_test = confusion_matrix(y_true_test, y_pred_test)\n",
        "cm_test"
      ],
      "execution_count": 78,
      "outputs": [
        {
          "output_type": "stream",
          "name": "stdout",
          "text": [
            "Confusion matrix\n",
            "- x-axis is true labels.\n",
            "- y-axis is predicted labels\n"
          ]
        },
        {
          "output_type": "execute_result",
          "data": {
            "text/plain": [
              "array([[10036,     0],\n",
              "       [   60,     0]])"
            ]
          },
          "metadata": {},
          "execution_count": 78
        }
      ]
    },
    {
      "cell_type": "code",
      "metadata": {
        "colab": {
          "base_uri": "https://localhost:8080/",
          "height": 329
        },
        "id": "WZihF-g8zTtA",
        "outputId": "5e44c965-a660-4502-889f-331cdee4a983"
      },
      "source": [
        "classes = [0, 1]\n",
        "# plot confusion matrix\n",
        "plt.imshow(cm, interpolation='nearest', cmap=plt.cm.Blues)\n",
        "plt.title(\"LSTM Model Train Set BA With Mutation CM\")\n",
        "plt.colorbar()\n",
        "tick_marks = np.arange(len(classes))\n",
        "plt.xticks(tick_marks, classes)\n",
        "plt.yticks(tick_marks, classes)\n",
        "\n",
        "fmt = 'd'\n",
        "thresh = cm.max() / 2.\n",
        "for i, j in itertools.product(range(cm.shape[0]), range(cm.shape[1])):\n",
        "    plt.text(j, i, format(cm[i, j], fmt),\n",
        "             horizontalalignment=\"center\",\n",
        "             color=\"white\" if cm[i, j] > thresh else \"black\")\n",
        "\n",
        "plt.tight_layout()\n",
        "plt.ylabel('True Label')\n",
        "plt.xlabel('Predicted Label')"
      ],
      "execution_count": 79,
      "outputs": [
        {
          "output_type": "execute_result",
          "data": {
            "text/plain": [
              "Text(0.5, 15.0, 'Predicted Label')"
            ]
          },
          "metadata": {},
          "execution_count": 79
        },
        {
          "output_type": "display_data",
          "data": {
            "text/plain": [
              "<Figure size 432x288 with 2 Axes>"
            ],
            "image/png": "[encoded data removed]"
          },
          "metadata": {
            "needs_background": "light"
          }
        }
      ]
    },
    {
      "cell_type": "code",
      "metadata": {
        "colab": {
          "base_uri": "https://localhost:8080/",
          "height": 329
        },
        "id": "XLNyO-yRo-sw",
        "outputId": "0db5deb9-b6a6-4d63-c1f3-bb353ef34369"
      },
      "source": [
        "classes = [0, 1]\n",
        "# plot confusion matrix\n",
        "plt.imshow(cm_test, interpolation='nearest', cmap=plt.cm.Reds)\n",
        "plt.title(\"LSTM Model Test Set BA With Mutation CM\")\n",
        "plt.colorbar()\n",
        "tick_marks = np.arange(len(classes))\n",
        "plt.xticks(tick_marks, classes)\n",
        "plt.yticks(tick_marks, classes)\n",
        "\n",
        "fmt = 'd'\n",
        "thresh = cm_test.max() / 2.\n",
        "for i, j in itertools.product(range(cm_test.shape[0]), range(cm_test.shape[1])):\n",
        "    plt.text(j, i, format(cm_test[i, j], fmt),\n",
        "             horizontalalignment=\"center\",\n",
        "             color=\"white\" if cm_test[i, j] > thresh else \"black\")\n",
        "\n",
        "plt.tight_layout()\n",
        "plt.ylabel('True Label')\n",
        "plt.xlabel('Predicted Label')"
      ],
      "execution_count": 80,
      "outputs": [
        {
          "output_type": "execute_result",
          "data": {
            "text/plain": [
              "Text(0.5, 15.0, 'Predicted Label')"
            ]
          },
          "metadata": {},
          "execution_count": 80
        },
        {
          "output_type": "display_data",
          "data": {
            "text/plain": [
              "<Figure size 432x288 with 2 Axes>"
            ],
            "image/png": "[encoded data removed]"
          },
          "metadata": {
            "needs_background": "light"
          }
        }
      ]
    },
    {
      "cell_type": "code",
      "metadata": {
        "id": "Fqr8ylNTzZ4s",
        "colab": {
          "base_uri": "https://localhost:8080/"
        },
        "outputId": "e7774226-4bca-4357-9e77-d9f4648b7934"
      },
      "source": [
        "# compute precision and recall\n",
        "precision = precision_score(y_true, y_pred)\n",
        "recall = recall_score(y_true, y_pred)\n",
        "print( 'precision = ', precision, '\\n', 'recall = ', recall)\n",
        "\n",
        "f1 = 2 * (precision * recall) / (precision + recall)\n",
        "print( 'Precision: ', precision, '\\n', 'Recall: ', recall,'\\n', 'F1-score:', f1)"
      ],
      "execution_count": 81,
      "outputs": [
        {
          "output_type": "stream",
          "name": "stdout",
          "text": [
            "precision =  0.0 \n",
            " recall =  0.0\n",
            "Precision:  0.0 \n",
            " Recall:  0.0 \n",
            " F1-score: nan\n"
          ]
        },
        {
          "output_type": "stream",
          "name": "stderr",
          "text": [
            "/usr/local/lib/python3.7/dist-packages/sklearn/metrics/_classification.py:1318: UndefinedMetricWarning: Precision is ill-defined and being set to 0.0 due to no predicted samples. Use `zero_division` parameter to control this behavior.\n",
            "  _warn_prf(average, modifier, msg_start, len(result))\n",
            "/usr/local/lib/python3.7/dist-packages/ipykernel_launcher.py:6: RuntimeWarning: invalid value encountered in double_scalars\n",
            "  \n"
          ]
        }
      ]
    },
    {
      "cell_type": "code",
      "metadata": {
        "colab": {
          "base_uri": "https://localhost:8080/"
        },
        "id": "ZlVQ1x5_pPjP",
        "outputId": "c009263b-2aac-4be3-9b52-b99902402f8c"
      },
      "source": [
        "# compute precision and recall\n",
        "precision = precision_score(y_true_test, y_pred_test)\n",
        "recall = recall_score(y_true_test, y_pred_test)\n",
        "print( 'precision = ', precision, '\\n', 'recall = ', recall)\n",
        "\n",
        "f1 = 2 * (precision * recall) / (precision + recall)\n",
        "print( 'Precision: ', precision, '\\n', 'Recall: ', recall,'\\n', 'F1-score:', f1)"
      ],
      "execution_count": 82,
      "outputs": [
        {
          "output_type": "stream",
          "name": "stdout",
          "text": [
            "precision =  0.0 \n",
            " recall =  0.0\n",
            "Precision:  0.0 \n",
            " Recall:  0.0 \n",
            " F1-score: nan\n"
          ]
        },
        {
          "output_type": "stream",
          "name": "stderr",
          "text": [
            "/usr/local/lib/python3.7/dist-packages/sklearn/metrics/_classification.py:1318: UndefinedMetricWarning: Precision is ill-defined and being set to 0.0 due to no predicted samples. Use `zero_division` parameter to control this behavior.\n",
            "  _warn_prf(average, modifier, msg_start, len(result))\n",
            "/usr/local/lib/python3.7/dist-packages/ipykernel_launcher.py:6: RuntimeWarning: invalid value encountered in double_scalars\n",
            "  \n"
          ]
        }
      ]
    },
    {
      "cell_type": "code",
      "metadata": {
        "id": "U8nBkVS6zvIK",
        "colab": {
          "base_uri": "https://localhost:8080/"
        },
        "outputId": "3c926502-9c16-4620-d37f-e88ee87c3b22"
      },
      "source": [
        "from sklearn.metrics import roc_curve\n",
        "from sklearn.metrics import auc\n",
        "fpr_train, tpr_train, thresholds_train = roc_curve(y_true, y_pred)\n",
        "auc_train = auc(fpr_train, tpr_train)\n",
        "\n",
        "scores_test = best_model.evaluate(seq_array_test, label_array_test, verbose=2)\n",
        "print('Test Accurracy: {}'.format(scores_test[1]))"
      ],
      "execution_count": 83,
      "outputs": [
        {
          "output_type": "stream",
          "name": "stdout",
          "text": [
            "316/316 - 4s - loss: 0.0062 - accuracy: 0.9973 - 4s/epoch - 12ms/step\n",
            "Test Accurracy: 0.9973256587982178\n"
          ]
        }
      ]
    },
    {
      "cell_type": "code",
      "metadata": {
        "id": "9kq0QW0F0EmJ",
        "colab": {
          "base_uri": "https://localhost:8080/"
        },
        "outputId": "b9cc84dc-f2ef-4fe7-ac90-4d4da7119e95"
      },
      "source": [
        "# compute precision and recall\n",
        "precision_test = precision_score(y_true_test, y_pred_test)\n",
        "recall_test = recall_score(y_true_test, y_pred_test)\n",
        "f1_test = 2 * (precision_test * recall_test) / (precision_test + recall_test)\n",
        "print( 'Precision: ', precision_test, '\\n', 'Recall: ', recall_test,'\\n', 'F1-score:', f1_test )"
      ],
      "execution_count": 84,
      "outputs": [
        {
          "output_type": "stream",
          "name": "stdout",
          "text": [
            "Precision:  0.0 \n",
            " Recall:  0.0 \n",
            " F1-score: nan\n"
          ]
        },
        {
          "output_type": "stream",
          "name": "stderr",
          "text": [
            "/usr/local/lib/python3.7/dist-packages/sklearn/metrics/_classification.py:1318: UndefinedMetricWarning: Precision is ill-defined and being set to 0.0 due to no predicted samples. Use `zero_division` parameter to control this behavior.\n",
            "  _warn_prf(average, modifier, msg_start, len(result))\n",
            "/usr/local/lib/python3.7/dist-packages/ipykernel_launcher.py:4: RuntimeWarning: invalid value encountered in double_scalars\n",
            "  after removing the cwd from sys.path.\n"
          ]
        }
      ]
    },
    {
      "cell_type": "code",
      "metadata": {
        "id": "8K5-NvJM0I4t"
      },
      "source": [
        "fpr_test, tpr_test, thresholds_test = roc_curve(y_true_test, y_pred_test)\n",
        "auc_test = auc(fpr_test, tpr_test)"
      ],
      "execution_count": 85,
      "outputs": []
    },
    {
      "cell_type": "code",
      "metadata": {
        "id": "i2kvr0o60L1v",
        "colab": {
          "base_uri": "https://localhost:8080/",
          "height": 295
        },
        "outputId": "1b435e57-56c7-4d1d-ac4a-e2fc35092b2f"
      },
      "source": [
        "plt.figure(1)\n",
        "plt.plot([0, 1], [0, 1], 'k--')\n",
        "plt.plot(fpr_train, tpr_train, label='Train (area = {:.3f})'.format(auc_train),color=\"blue\")\n",
        "plt.plot(fpr_test, tpr_test, label='Test (area = {:.3f})'.format(auc_test),color=\"red\")\n",
        "plt.xlabel('False positive rate')\n",
        "plt.ylabel('True positive rate')\n",
        "plt.title('ROC curve LSTM with BA with mutation seq_length=30')\n",
        "plt.legend(loc='best')\n",
        "plt.show()"
      ],
      "execution_count": 86,
      "outputs": [
        {
          "output_type": "display_data",
          "data": {
            "text/plain": [
              "<Figure size 432x288 with 1 Axes>"
            ],
            "image/png": "[encoded data removed]"
          },
          "metadata": {
            "needs_background": "light"
          }
        }
      ]
    }
  ]
}